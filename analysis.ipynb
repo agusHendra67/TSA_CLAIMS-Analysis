{
 "cells": [
  {
   "attachments": {},
   "cell_type": "markdown",
   "metadata": {},
   "source": [
    "# Latar Belakang\n",
    "TSA atau *Transportation Security Administration* adalah sebuah badan pemerintah dari departemen keamanan dalam negeri Amerika Serikat (USA) yang bertanggung jawab dalam masalah keamanan penerbangan. Klaim dapat diajukan jika penumpang terluka atau harta bendanya hilang atau rusak selama proses pemeriksaan di bandara. Banyak klaim yang masuk, tapi tidak semua klaim akan diproses dan disetujui."
   ]
  },
  {
   "attachments": {},
   "cell_type": "markdown",
   "metadata": {},
   "source": [
    "## Pernyataan Masalah\n",
    "TSA ingin mengetahui keputusan/penyelesaian akhir (*final settlement/Disposition*) apa yang harus diberikan dari sebuah klaim yang diajukan. Dimana ada tiga kategori untuk keputusan/penyelesaian akhir :\n",
    "\n",
    "1. ***Approve in Full (Disetujui secara penuh)***   : klaim disetujui dan dana kompensasi diberikan secara penuh (full) sesuai dengan pengajuan klaim penumpang.\n",
    "2. ***Settle (Disetujui secara parsial/sebagian)*** : klaim telah terselesaikan dengan persetujuan antara pihak agensi TSA dan penumpang. Dana kompensasi diberikan secara sebagian (partial)\n",
    "3. ***Deny (Ditolak)***                             : klaim ditolak atau tidak disetujui.\n",
    "\n",
    "\n",
    "Informasi ini diharapkan dapat membantu TSA untuk menekan biaya kompensasi dan waktu pengecekan klaim, mendeteksi adanya klaim fiktif atau palsu, memberikan evaluasi kepada bandara dalam hal penanganan klaim dan meningkatkan kualitas dengan membantu mengelompokkan klaim ke dalam keputusan akhir (*final settlement*) yang sesuai.\n",
    "\n",
    "Sebagai seorang *data analyst*, saya akan mencoba menjawab pertanyaan berikut:\n",
    "\n",
    "**Bagaimana karakteristik keputusan/penyelesaian akhir yang diambil terhadap klaim yang diajukan?**"
   ]
  },
  {
   "attachments": {},
   "cell_type": "markdown",
   "metadata": {},
   "source": [
    "# Data\n",
    "Untuk menjawab pertanyaan di atas, saya akan menganalisa data klaim yang sudah dikumpulkan oleh TSA. Dataset dapat diakses [di sini](https://drive.google.com/drive/folders/13SAQcA3QZ2FBclO1iOW31otlnBXHytYk)."
   ]
  },
  {
   "cell_type": "code",
   "execution_count": null,
   "metadata": {},
   "outputs": [],
   "source": [
    "import pandas as pd\n",
    "import numpy as np\n",
    "import re\n",
    "import datetime\n",
    "\n",
    "import plotly.express as px\n",
    "import seaborn as sns\n",
    "import matplotlib.pyplot as plt\n",
    "\n",
    "# import warnings\n",
    "# warnings.filterwarnings(\"ignore\")"
   ]
  },
  {
   "attachments": {},
   "cell_type": "markdown",
   "metadata": {},
   "source": [
    "Dataset ini berisi informasi terkait jenis klaim, waktu kejadian dan pelaporan klaim, lokasi bandara, maskapai, status dan biaya klaim (dolar US). \\\n",
    "Ada 13 kolom di dalam data tsa_claims, yaitu\n",
    "\n",
    "* Claim Number  : nomor id unik untuk setiap klaim\n",
    "* Date Received : tanggal klaim diajukan\n",
    "* Incident Date : tanggal kejadian tersebut terjadi\n",
    "* Airport Code  : kode bandara dimana kejadian tersebut terjadi\n",
    "* Airport Name  : nama bandara dimana kejadian tersebut terjadi\n",
    "* Airline Name  : nama maskapai/penyedia penerbangan\n",
    "* Claim Type    : tipe klaim yang diajukan\n",
    "* Claim Site    : lokasi dimana klaim diajukan\n",
    "* Item          : jenis benda yang di klaim\n",
    "* Claim Amount  : jumlah dana (dolar US) klaim \n",
    "* Status        : status klaim yang diajukan (apakah sudah selesai, ditangguhkan , ditunda dll)\n",
    "* Close Amount  : jumlah dana kompensasi penyelesaian akhir (settlement)\n",
    "* Disposition   : status penyelesaian akhir ( *final settlement*) klaim\n",
    "\n",
    "Berikut 5 baris teratas dan terbawah dari dataset tsa_claims."
   ]
  },
  {
   "cell_type": "code",
   "execution_count": null,
   "metadata": {},
   "outputs": [],
   "source": [
    "df = pd.read_csv('tsa_claims.csv')\n",
    "display(df.head(),df.tail())"
   ]
  },
  {
   "attachments": {},
   "cell_type": "markdown",
   "metadata": {},
   "source": [
    "## Data Understanding and Cleaning\n",
    "Sebelum melakukan analisis lebih mendalam, kita perlu mengenal data yang kita miliki sekarang melalui tahapan *Data Understanding*. Dari proses ini kita bisa mengetahui anomali-anomali yang terdapat pada dataset seperti *missing value*, format data yang tidak sesuai, data duplikat, penamaan variabel yang tidak konsisten dll. Anomali-anomali yang berhasil dideteksi perlu ditangani dalam tahapan *data cleaning*, dimana pada setiap pengangan anomali tersebut akan dilakukan penyesuaian langkah yang diambil (tergantung dari jenis anomalinya) baik secara *domain knowledge* maupun secara *statistik* sehingga data tersebut menjadi \"bersih\" dan lebih relevan untuk digunakan dalam proses analisis."
   ]
  },
  {
   "attachments": {},
   "cell_type": "markdown",
   "metadata": {},
   "source": [
    "### Deskripsi data"
   ]
  },
  {
   "attachments": {},
   "cell_type": "markdown",
   "metadata": {},
   "source": [
    "Pertama, mari kita lihat informasi umur dari dataset tsa_claims."
   ]
  },
  {
   "cell_type": "code",
   "execution_count": null,
   "metadata": {},
   "outputs": [],
   "source": [
    "print(df.shape)\n",
    "df.info()"
   ]
  },
  {
   "attachments": {},
   "cell_type": "markdown",
   "metadata": {},
   "source": [
    "Dari info di atas dapat kita lihat bahwa semua data masih memiliki tipe *object* atau teks, sehingga kita perlu menyesuaikan format data yang relevan.\n",
    "\n",
    "* Beberapa kolom yaitu, `Claim Number`, `Airport Code`, `Airport Name`, `Airline Name`, `Claim Type`, `Claim Site`, `Item`, `Status`, dan `Disposition` tetap dalam tipe teks/object.\n",
    "* kolom `Date Received`, dan `Incident Date` akan diubah ke tipe *datetime*.\n",
    "* kolom `Claim Amount` dan `Close Amount` akan diubah ke tipe *float*."
   ]
  },
  {
   "cell_type": "code",
   "execution_count": null,
   "metadata": {},
   "outputs": [],
   "source": [
    "print(\"Deskripsi statistik data numerik\")\n",
    "display(df.describe())\n",
    "print(\"*\"*200)\n",
    "print(\"Deskripsi statistik data non-numerik (object)\")\n",
    "display(df.describe(include='object'))"
   ]
  },
  {
   "cell_type": "code",
   "execution_count": null,
   "metadata": {},
   "outputs": [],
   "source": [
    "pd.set_option('display.max_colwidth', 1)\n",
    "\n",
    "df.shape\n",
    "# data unik di tiap kolom\n",
    "list_unique_item = [[col, df[col].nunique(), df[col].unique()] for col in df.columns]\n",
    "\n",
    "tabel_unique_desc = pd.DataFrame(columns=['Column Name', 'Number of Unique', 'Unique Sample'],\n",
    "                     data=list_unique_item)\n",
    "tabel_unique_desc"
   ]
  },
  {
   "cell_type": "code",
   "execution_count": null,
   "metadata": {},
   "outputs": [],
   "source": [
    "#kolom yang terdapat karakter \"-\" yang dapat diartikan sebagai nilai kosong\n",
    "list_of_col_with_strip = []\n",
    "for col in df.columns :\n",
    "    if \"-\" in df[col].values :\n",
    "        list_of_col_with_strip.append(col)\n",
    "list_of_col_with_strip"
   ]
  },
  {
   "attachments": {},
   "cell_type": "markdown",
   "metadata": {},
   "source": [
    "Jika dilihat, ada beberapa kolom (`Airport Code`,`Airport Name`, `Airline Name`, `Claim Type`, `Claim Site`, `Item`,`Claim Amount`,`Status`) yang memiliki nilai kosong (missing value) menggunakan karakter \"-\". \\\n",
    "Maka nilai \"-\" akan di replace dengan nilai Nan"
   ]
  },
  {
   "cell_type": "code",
   "execution_count": null,
   "metadata": {},
   "outputs": [],
   "source": [
    "for col in df.columns:\n",
    "    df.loc[df[col] == \"-\", col] = df.loc[df[col] == \"-\", col].replace(\"-\", np.nan)"
   ]
  },
  {
   "attachments": {},
   "cell_type": "markdown",
   "metadata": {},
   "source": [
    "Dari hasil penjabaran di atas, maka secara umum kita dapat melihat bahwa :\n",
    "\n",
    "* Dataset tsa_claims memiliki 13 kolom dan 204.267 baris\n",
    "* Kolom `Claim Number` memiliki 204.258 data unik, yang berarti bahwa ada 9 baris data dengan nomor id yang sama. Mari nanti kita cek lebih detil. \\\n",
    "  Nantinya, setelah dilakukan penyesuaian data duplikat, karena kolom ini berisikan id dari klaim, karena tidak relevan dalam analisis maka di drop saja. \n",
    "* Semua kolom kecuali `Claim Number` memiliki nilai kosong yang diwakilkan dengan data NaN (setelah karakter \"-\" di replace dengan data NaN).\n",
    "* Kolom `Date Received` dan `Incident Date` memiliki data tipe object. Seharusnya berisikan data tipe datetime. Kita akan cek lebih detil.\n",
    "* Terdapat penulisan data yang tidak konsisten pada kolom `Incident Date`. contoh : 22-Apr-13 atau 4/22/2013 8:40. Kita akan cek lebih detil\n",
    "* Kolom `Claim Amount` dan `Close Amount` memiliki data tipe object. Seharusnya berisikan data numerik. Kita akan cek lebih detil.\n",
    "* Untuk nilai di atas $1000 pada kolom `Claim Amount` dan `Close Amount` : terdapat karakter \";\" yang dimana nanti akan kita sesuaikan formatnya.\n",
    "* Pada kolom `Item` terdapat banyak teks/kata yang menunjukkan nama-nama barang yang dijadikan satu *field*. Kita bisa estrak satu persatu. contoh :  Cosmetics - Perfume; \\ toilet articles; medicines; soaps; etc.; Locks; Medicines\n",
    "* Ada beberapa nilai pada kolom `status` yang memiliki arti yang sama jika dihubungkan dengan nilai di kolom `Disposition`. \\\n",
    "  Contoh : \"Denied\" dan \"Deny\" memiliki arti yang sama dengan \"Deny\" pada kolom `Disposition`. Kita bisa gunakan kondisi ini untuk mengisi nilai kosong pada `Disposition`\n"
   ]
  },
  {
   "attachments": {},
   "cell_type": "markdown",
   "metadata": {},
   "source": [
    "### Data Duplikat"
   ]
  },
  {
   "cell_type": "code",
   "execution_count": null,
   "metadata": {},
   "outputs": [],
   "source": [
    "df[df['Claim Number'].duplicated(keep=False)].sort_values(by='Claim Number')"
   ]
  },
  {
   "attachments": {},
   "cell_type": "markdown",
   "metadata": {},
   "source": [
    "Jika kita lihat ada 9 data yang memiliki nomor id klaim atau Claim Number yang sama. Ada dua kemungkinan, pertama yaitu ketika data yang di masukkan memang data yang sama/duplikat \\\n",
    "atau ada klaim yang sama (dari orang yang sama) diajukan dua kali di waktu yang berbeda. Pada kasus kedua, kita akan drop baris yang memiliki nilai kosong pada kolom `Status`, dengan asumsi klaim yang sama tersebut tidak diproses oleh TSA"
   ]
  },
  {
   "cell_type": "code",
   "execution_count": null,
   "metadata": {},
   "outputs": [],
   "source": [
    "idx_to_drop = df[df['Claim Number'].duplicated(keep=False)].loc[df['Status'].isnull()].index\n",
    "df = df.drop(idx_to_drop, axis=0)\n",
    "df = df.drop_duplicates()\n",
    "df.reset_index(inplace=True, drop='index')"
   ]
  },
  {
   "cell_type": "code",
   "execution_count": null,
   "metadata": {},
   "outputs": [],
   "source": [
    "#Sudah tidak ada data dengan nomor id atau Claim Number duplikat \n",
    "df[df['Claim Number'].duplicated()]"
   ]
  },
  {
   "attachments": {},
   "cell_type": "markdown",
   "metadata": {},
   "source": [
    "### Justifikasi Format Data"
   ]
  },
  {
   "attachments": {},
   "cell_type": "markdown",
   "metadata": {},
   "source": [
    "Seperti yang kita sudah lihat, bahwa ada beberapa kolom yang harus kita sesuaikan baik tipe data nya maupun penulisan/penamaan nilai.\n",
    "\n",
    "* beberapa data pada kolom `Incident Date` mempunyai penulisan yang tidak konsisten, sehingga kita akan sesuaikan agar seragam. Contoh : \"4/22/2013 8:40\" akan diubah menjadi \"2013-04-22\" (dalam format %Y-%m-%d)\n",
    "* kolom `Date Received` dan `Incident Date` memiliki data tipe object yang akan diubah ke tipe datetime.\n",
    "* kolom `Claim Amount` dan `Close Amount` memiliki data tipe object yang seharusnya berisikan data numerik --> tipe \"int\" atau tipe \"float\", disini kita akan ubah tipe data nya menjadi tipe \"float\"\n"
   ]
  },
  {
   "cell_type": "code",
   "execution_count": null,
   "metadata": {},
   "outputs": [],
   "source": [
    "a= df.copy()"
   ]
  },
  {
   "attachments": {},
   "cell_type": "markdown",
   "metadata": {},
   "source": [
    "#### Ubah penulisan dan tipe data pada kolom `Date Received` dan `Incident Date`"
   ]
  },
  {
   "attachments": {},
   "cell_type": "markdown",
   "metadata": {},
   "source": [
    "1) kolom `Date Received`"
   ]
  },
  {
   "cell_type": "code",
   "execution_count": null,
   "metadata": {},
   "outputs": [],
   "source": [
    "df['Date Received'] = pd.to_datetime(df['Date Received']).dt.strftime('%Y-%m-%d')"
   ]
  },
  {
   "attachments": {},
   "cell_type": "markdown",
   "metadata": {},
   "source": [
    "2) kolom `Incident Date`"
   ]
  },
  {
   "attachments": {},
   "cell_type": "markdown",
   "metadata": {},
   "source": [
    "Saat hendak mengubah kolom \"Incident Date\" muncul pesan error \\\n",
    "```OutOfBoundsDatetime: Out of bounds nanosecond timestamp: 300-09-03 00:00:00 present at position 741```\n",
    "\n",
    "Ini disebabkan ada beberapa data melebihi range nilai yang diizinkan oleh library pandas \\\n",
    "```In [0]: pd.Timestamp.min```\n",
    "```Out[0]: Timestamp('1677-09-22 00:12:43.145225')```\n",
    "\n",
    "```In [55]: pd.Timestamp.max```\n",
    "```Out[55]: Timestamp('2262-04-11 23:47:16.854775807')```\n",
    "\n",
    "Kita akan cek baris yang melebihi range ini"
   ]
  },
  {
   "cell_type": "code",
   "execution_count": null,
   "metadata": {},
   "outputs": [],
   "source": [
    "df[df['Incident Date']==\"03-SEP-0300 00:00\"]"
   ]
  },
  {
   "attachments": {},
   "cell_type": "markdown",
   "metadata": {},
   "source": [
    "dari sampel di atas dapat dilihat bahwa ada format dari kolom `Incident Date` yang format tahun nya tidak sesuai \\\n",
    "contoh di atas : *03-SEP-0300 00:00* \\\n",
    "Nilai tahun (0300) pada data tersebut tidak dimengerti --> mungkin ada kesalahan input atau perbedaan format. \\\n",
    "Untuk kasus ini, kita asumsikan antara tanggal pengajuan klaim (Date Received) dan tanggal kejadian (Incident Date) terjadi di tahun yang sama sehingga nanti kita akan replace tahun pada kolom `Incident Date`  menggunakan tahun di kolom `Date Received`"
   ]
  },
  {
   "cell_type": "code",
   "execution_count": null,
   "metadata": {},
   "outputs": [],
   "source": [
    "row_wrong_format= list(df['Incident Date'].str.extract(pat=r\"(\\d+-\\D+-\\d{4})\").dropna().index.to_numpy())\n",
    "df.iloc[row_wrong_format][['Date Received', 'Incident Date']]"
   ]
  },
  {
   "attachments": {},
   "cell_type": "markdown",
   "metadata": {},
   "source": [
    "Dapat dilihat dari hasil di atas, ada 164 baris yang memiliki nilai range datetime (dalam ns) yang melebihi batas/range pandas \\\n",
    "kita akan ubah nilai tahun nya menggunakan nilai tahun pada kolom `Date Received`"
   ]
  },
  {
   "cell_type": "code",
   "execution_count": null,
   "metadata": {},
   "outputs": [],
   "source": [
    "year_list_date_received = pd.to_datetime(df.loc[row_wrong_format, 'Date Received']).dt.year.values.tolist()"
   ]
  },
  {
   "cell_type": "code",
   "execution_count": null,
   "metadata": {},
   "outputs": [],
   "source": [
    "for idx, year in zip(row_wrong_format, year_list_date_received):\n",
    "    teks = df.loc[idx, 'Incident Date']\n",
    "    a = teks.split(\"-\")\n",
    "    a[1] = a[1].capitalize()\n",
    "    new_teks = \"-\".join(a[0:3])\n",
    "\n",
    "    df.loc[[idx], 'Incident Date'] = new_teks\n",
    "    df.loc[[idx], 'Incident Date'] = df.loc[[idx], 'Incident Date'].apply(lambda x : re.sub((\"-(\\d{4})\"), f\"-{year}\", x))"
   ]
  },
  {
   "attachments": {},
   "cell_type": "markdown",
   "metadata": {},
   "source": [
    "Setelah format tahunnya disesuaikan pada kolom ``Incident Date``, selanjutnya ubah ke format tanggal yang sesuai."
   ]
  },
  {
   "cell_type": "code",
   "execution_count": null,
   "metadata": {},
   "outputs": [],
   "source": [
    "df['Incident Date'] = pd.to_datetime(df['Incident Date']).dt.date"
   ]
  },
  {
   "cell_type": "code",
   "execution_count": null,
   "metadata": {},
   "outputs": [],
   "source": [
    "df.iloc[row_wrong_format][['Date Received', 'Incident Date']]"
   ]
  },
  {
   "attachments": {},
   "cell_type": "markdown",
   "metadata": {},
   "source": [
    "#### Ubah penulisan dan tipe data pada kolom `Claim Amount` dan `Close Amount`"
   ]
  },
  {
   "cell_type": "code",
   "execution_count": null,
   "metadata": {},
   "outputs": [],
   "source": [
    "df[['Claim Amount', 'Close Amount']].sample(10)"
   ]
  },
  {
   "attachments": {},
   "cell_type": "markdown",
   "metadata": {},
   "source": [
    "replace tanda \";\" untuk setiap nilai dengan \"\""
   ]
  },
  {
   "cell_type": "code",
   "execution_count": null,
   "metadata": {},
   "outputs": [],
   "source": [
    "df[['Claim Amount', 'Close Amount']] = df[['Claim Amount', 'Close Amount']].replace({\";\": \"\"}, regex=True)"
   ]
  },
  {
   "attachments": {},
   "cell_type": "markdown",
   "metadata": {},
   "source": [
    "Selanjutnya extrak angka numerik di depan tanda dollar $ lalu ubah tipe data nya ke data tipe *float*"
   ]
  },
  {
   "cell_type": "code",
   "execution_count": null,
   "metadata": {},
   "outputs": [],
   "source": [
    "df['Claim Amount'] = df['Claim Amount'].str.replace(\"$\", \"\", regex=True)\n",
    "df['Close Amount'] = df['Close Amount'].str.replace(\"$\", \"\", regex=True)"
   ]
  },
  {
   "cell_type": "code",
   "execution_count": null,
   "metadata": {},
   "outputs": [],
   "source": [
    "df[['Claim Amount', 'Close Amount']] = df[['Claim Amount', 'Close Amount']].astype(float)\n",
    "df[['Claim Amount', 'Close Amount']].head()"
   ]
  },
  {
   "cell_type": "code",
   "execution_count": null,
   "metadata": {},
   "outputs": [],
   "source": [
    "df.sample(10)"
   ]
  },
  {
   "attachments": {},
   "cell_type": "markdown",
   "metadata": {},
   "source": [
    "### Missing Value Handling"
   ]
  },
  {
   "cell_type": "code",
   "execution_count": null,
   "metadata": {},
   "outputs": [],
   "source": [
    "#persentase missing value setiap kolom\n",
    "missing_pct_df = pd.DataFrame({\"column name\" : df.columns.tolist(), \"percentage (missing value)\" : [df[col].isnull().sum()*100/len(df) for col in df.columns]}).sort_values(by=\"percentage (missing value)\", ascending=False)\n",
    "missing_pct_df"
   ]
  },
  {
   "cell_type": "code",
   "execution_count": null,
   "metadata": {},
   "outputs": [],
   "source": [
    "# Sebaran missing value di dalam data tsa_claims\n",
    "px.imshow(df[df.columns.tolist()[1:]].isnull(), height=600, width=1500,color_continuous_scale='ice')"
   ]
  },
  {
   "attachments": {},
   "cell_type": "markdown",
   "metadata": {},
   "source": [
    "Dari penjabaran di atas, dapat kita lihat bahwa :\n",
    "\n",
    "* terdapat 3 kolom yang memiliki proporsi *missing value* cukup tinggi (>10%) yaitu `Disposition` (35.69%), `Close Amount` (33.75%) dan `Airline Name` (18.90%)\n",
    "* *missing value* pada kolom `Close Amount` dan `Disposition` memiliki sebaran yang terlihat berkaitan, jika data di `Close Amount` kosong, maka kemungkinan besar data di `Disposition` juga kosong.\n",
    "* *missing value* pada kolom `Claim Amount` dan ``Close Amount`` terlihat cukup berkaitan dengan kolom `Status`, jika data di `Close Amount` dan `Claim Amount` keduanya kosong, maka kemungkinan data di `Status` juga kosong (terutama pada data di index 14000 ke atas)\n",
    "* proporsi *missing value* pada kolom `Date Received` (0.128%) dan `Claim Site` (0.497%) terbilang kecil (<1%>) , ada kemungkinan kita bisa drop *missing value* pada 2 kolom ini (kita akan cek lebih lanjut)"
   ]
  },
  {
   "attachments": {},
   "cell_type": "markdown",
   "metadata": {},
   "source": [
    "Setelah melihat gambaran kasar dari *missing value* pada data yang kita miliki, selanjutnya kita akan menangani *missing value* dengan dua pendekatan :\n",
    "\n",
    "* pertama : menghapus baris/kolom yang kosong. Cara ini tidak di sarankan untuk untuk beberapa kolom. Contoh pada kolom `Disposition` memiliki 35.69% *missing value* yang tergolong cukup tinggi sehingga kita akan kehilangan cukup banyak data jika di drop/hapus. Tapi jika dilihat pada kolom `Date Received` (0.128%) dan `Claim Site` (0.497%) bisa dibilang memiliki proporsi yang kecil, jadi ada kemungkinan bisa kita hapus baris yang mengandung *missing value* pada kedua kolom ini.\n",
    "\n",
    "* kedua : metode yang lebih disarankan yaitu mengisi data yang hilang atau *missing value*. Ada beberapa cara/metode untuk mengisi nilai kosong ini yaitu dengan mengisi data yang hilang berdasarkan kolom lain yang secara *domain Knowledge* atau statistik memiliki hubungan dengan kolom yang memiliki nilai kosong ini. Setelah menggunakan metode ini dan ternyata masih ada nilai yang kosong maka kita bisa mengisi dengan angka *mean, median* atau *modus*. Menghapus data akan menjadi pilihan terakhir (jika sudah tidak ada cara lagi untuk mengisi nilai kosong ini)."
   ]
  },
  {
   "attachments": {},
   "cell_type": "markdown",
   "metadata": {},
   "source": [
    "#### `Status`, `Disposition`, `Claim Amount` dan `Close Amount`"
   ]
  },
  {
   "attachments": {},
   "cell_type": "markdown",
   "metadata": {},
   "source": [
    "Dari penjabaran sebelumnya *missing value* pada kolom `Status`, `Disposition`, `Claim Amount` dan `Close Amount` saling berkaitan, jadi kita akan isi *missing value* keempat kolom ini secara bersamaan"
   ]
  },
  {
   "cell_type": "code",
   "execution_count": null,
   "metadata": {},
   "outputs": [],
   "source": [
    "df[df['Disposition'].isnull()]['Status'].value_counts()"
   ]
  },
  {
   "attachments": {},
   "cell_type": "markdown",
   "metadata": {},
   "source": [
    "##### Pertama, kita isi *missing value* pada kolom `Claim Amount`, `Close Amount` dan `Disposition` sesuai dengan kolom `Status` dengan aturan sebagai berikut :"
   ]
  },
  {
   "attachments": {},
   "cell_type": "markdown",
   "metadata": {},
   "source": [
    "* kasus pertama : Jika status nya *Approved*, *Approve in Full* dan nilai kolom `Disposition` nya kosong \\\n",
    "maka kita isi *missing value* `Close Amount` = nilai `Claim Amount` (dan sebaliknya) dan isi *missing value* `Disposition` = *Approve in Full*"
   ]
  },
  {
   "cell_type": "code",
   "execution_count": null,
   "metadata": {},
   "outputs": [],
   "source": [
    "df1 = df[((df['Status']==\"Approved\") | (df['Status']==\"Approve in Full\")) & ((df['Disposition'].isnull()))]\n",
    "idx_df1 = df1.index\n",
    "\n",
    "#Isi nilai kosong pada kolom `Disposition` dengan \"Approve in Full\"\n",
    "df.loc[idx_df1, \"Disposition\"] = \"Approve in Full\""
   ]
  },
  {
   "cell_type": "code",
   "execution_count": null,
   "metadata": {},
   "outputs": [],
   "source": [
    "#isi missing value pada kolom Claim Amount dan Close Amount\n",
    "for idx in df[df[\"Disposition\"] == \"Approve in Full\"].index:\n",
    "    if (df['Claim Amount'][idx] == np.nan) and (df['Close Amount'][idx] != np.nan) :\n",
    "        df.loc[idx, \"Claim Amount\"] = df[df['Close Amount']][idx]\n",
    "    elif (df['Claim Amount'][idx] != np.nan) and (df['Close Amount'][idx] == np.nan) :\n",
    "        df.loc[idx, \"Close Amount\"] = df[df['Claim Amount']][idx]"
   ]
  },
  {
   "attachments": {},
   "cell_type": "markdown",
   "metadata": {},
   "source": [
    "* kasus kedua : Jika statusnya *Deny*, *Denied* dan nilai kolom `Disposition` nya kosong \\\n",
    "maka kita isi *missing value* `Close Amount` = 0 dan `Claim Amount` = 0 serta isi *missing value* `Disposition` = *Deny*"
   ]
  },
  {
   "cell_type": "code",
   "execution_count": null,
   "metadata": {},
   "outputs": [],
   "source": [
    "df2 = df[((df['Status']==\"Deny\") | (df['Status']==\"Denied\")) & (df['Disposition'].isnull())]\n",
    "idx_df2 = df2.index\n",
    "\n",
    "#Isi nilai kosong pada kolom `Disposition` dengan \"Deny\"\n",
    "df.loc[idx_df2, \"Disposition\"] = \"Deny\""
   ]
  },
  {
   "cell_type": "code",
   "execution_count": null,
   "metadata": {},
   "outputs": [],
   "source": [
    "df.loc[df['Disposition']==\"Deny\", \"Close Amount\"] = df.loc[df['Disposition']==\"Deny\", \"Close Amount\"].fillna(0)\n",
    "df.loc[df['Disposition']==\"Deny\", \"Claim Amount\"] = df.loc[df['Disposition']==\"Deny\", \"Claim Amount\"].fillna(0)"
   ]
  },
  {
   "attachments": {},
   "cell_type": "markdown",
   "metadata": {},
   "source": [
    "* kasus ketiga : status *Canceled* artinya klaim tersebut telah dibatalkan oleh pengaju/penumpang sehingga bisa kita kategorikan klaim ini sebagai kasus yang sudah \"terselesaikan\" antara penumpang dengan pihak TSA. Jadi kita akan masukkan status *Canceled* ke penyelesaian akhir (`Disposition`) *Settle*. Selain itu kita asumsikan juga klaim *Canceled* artinya nilai `Claim Amount` dan `Close Amount` sama dengan 0, karena memaang klaim ini telah terselesaikan (dengan cara pembatalan klaim oleh persetujuan pihak TSA) tanpa adanya pengajuan/pengembalian dana."
   ]
  },
  {
   "cell_type": "code",
   "execution_count": null,
   "metadata": {},
   "outputs": [],
   "source": [
    "df.loc[df['Status']==\"Canceled\", \"Close Amount\"] = df.loc[df['Status']==\"Canceled\", \"Close Amount\"].fillna(0)\n",
    "df.loc[df['Status']==\"Canceled\", \"Disposition\"] = df.loc[df['Status']==\"Canceled\", \"Disposition\"].fillna(\"Settle\")\n",
    "df.loc[df['Status']==\"Canceled\", \"Claim Amount\"] = df.loc[df['Status']==\"Canceled\", \"Claim Amount\"].fillna(0)"
   ]
  },
  {
   "attachments": {},
   "cell_type": "markdown",
   "metadata": {},
   "source": [
    "* kasus keempat : ketika status nya *Settle*, *Seetled*\\\n",
    "maka kita isi *missing value* `Disposition` = \"Settle\""
   ]
  },
  {
   "cell_type": "code",
   "execution_count": null,
   "metadata": {},
   "outputs": [],
   "source": [
    "df.loc[(df['Status']==\"Settle\") | (df['Status']==\"Settled\"), \"Disposition\"] = df.loc[(df['Status']==\"Settle\") | (df['Status']==\"Settled\"), \"Disposition\"].fillna(\"Settle\")"
   ]
  },
  {
   "attachments": {},
   "cell_type": "markdown",
   "metadata": {},
   "source": [
    "--> pada status *Settle* artinya klaim disetujui dan dana yang diberikan (Close Amount) tidak penuh atau tidak seratus persen dari dana klaim yang diajukan (Claim Amount) maka kita akan mengisi nilai kosong pada kolom `Close Amount` dengan mencari rata-rata proporsi/persentase dari dana klaim yang diajukan (Claim Amount) yang akan diteruskan ke pengaju klaim (Close Amount) jika nilai `Disposition` nya *Settle*"
   ]
  },
  {
   "cell_type": "code",
   "execution_count": null,
   "metadata": {},
   "outputs": [],
   "source": [
    "df_amount_percentage = df[df['Disposition']==\"Settle\"][[\"Claim Amount\", \"Close Amount\"]]\n",
    "\n",
    "df_amount_percentage['Amount percentage'] = df[\"Close Amount\"]/df[\"Claim Amount\"]\n",
    "df_amount_percentage.head()"
   ]
  },
  {
   "cell_type": "code",
   "execution_count": null,
   "metadata": {},
   "outputs": [],
   "source": [
    "fig = px.histogram(df_amount_percentage[\"Amount percentage\"], range_x=(0,10))\n",
    "fig.add_annotation(text=f\"Median Value : {df_amount_percentage['Amount percentage'].median()}\", x=4, y=6000, arrowside=\"none\")"
   ]
  },
  {
   "attachments": {},
   "cell_type": "markdown",
   "metadata": {},
   "source": [
    "Jika kita lihat dari gambar di atas, kebanyakan dana yang diberikan (Close Amount) tepat 0.5 (nilai median juga) atau 50% dari dana yang diajukan (Claim Amount), maka kita akan isi *missing value* pada kolom `Close Amount` dengan 0.5*(nilai `Claim Amount`)\n",
    "\n",
    "Begitu juga sebalik nya ketika nilai dari kolom `Claim Amount` memiliki nilai NaN tapi kolom `Close Amount` nya tidak kosong pada status/disposition *settle* maka \\\n",
    "kita akan isi *missing value* pada kolom `Claim Amount` = 2*(nilai `Close Amount`)"
   ]
  },
  {
   "cell_type": "code",
   "execution_count": null,
   "metadata": {},
   "outputs": [],
   "source": [
    "for idx in df[df['Disposition']==\"Settle\"].index:   \n",
    "    if (df['Claim Amount'][idx] == np.nan) and (df['Close Amount'][idx] != np.nan):\n",
    "        df.loc[df['Disposition']==\"Settle\", \"Close Amount\"][idx] = 0.5*(df.loc[df['Status']==\"Settle\", \"Claim Amount\"][idx])\n",
    "    elif (df['Close Amount'][idx] == np.nan) and (df['Claim Amount'][idx] != np.nan):\n",
    "        df.loc[df['Disposition']==\"Settle\", \"Claim Amount\"][idx] = 2*(df.loc[df['Status']==\"Settle\", \"Close Amount\"][idx])"
   ]
  },
  {
   "attachments": {},
   "cell_type": "markdown",
   "metadata": {},
   "source": [
    "Mari kita lihat status yang lainnya"
   ]
  },
  {
   "attachments": {},
   "cell_type": "markdown",
   "metadata": {},
   "source": [
    "* kasus kelima : ketika status nya *Closed as a contractor claim* \\ jika dilihat dari definisi yang saya temukan di internet(https://www.lawinsider.com/dictionary/contractor-claim) artinya klaim yang diajukan sesuai dengan Kontrak Konstruksi untuk barang atau jasa yang disediakan berdasarkan atau sesuai dengan Kontrak Konstruksi. Jika dilihat dari value count dari kolom `Close Amount` semua nya bernilai 0 yang ini artinya kita bisa asumsikan bahwa semua klaim dengan status *Closed as a contractor claim* ditolak oleh TSA sehingga kita akan isi *missing value* pada kolom `Close Amount`, `Claim Amount` dengan 0 dan *missing value* pada kolom `Disposition` dengan *Deny* (sesuai definisi kita yaitu ketika nilai `Close Amount`== 0 maka `Disposition` = Deny)"
   ]
  },
  {
   "cell_type": "code",
   "execution_count": null,
   "metadata": {},
   "outputs": [],
   "source": [
    "df[df[\"Status\"]==\"Closed as a contractor claim\"]['Close Amount'].value_counts(dropna=False)\n"
   ]
  },
  {
   "cell_type": "code",
   "execution_count": null,
   "metadata": {},
   "outputs": [],
   "source": [
    "df.loc[df[\"Status\"]==\"Closed as a contractor claim\", \"Close Amount\"] = df.loc[df[\"Status\"]==\"Closed as a contractor claim\", \"Close Amount\"].fillna(0)\n",
    "df.loc[df[\"Status\"]==\"Closed as a contractor claim\", \"Disposition\"] = df.loc[df[\"Status\"]==\"Closed as a contractor claim\", \"Disposition\"].fillna(\"Deny\")\n",
    "df.loc[df[\"Status\"]==\"Closed as a contractor claim\", \"Claim Amount\"] = df.loc[df[\"Status\"]==\"Closed as a contractor claim\", \"Claim Amount\"].fillna(0)"
   ]
  },
  {
   "attachments": {},
   "cell_type": "markdown",
   "metadata": {},
   "source": [
    "* kasus keenam : status *Insufficient; one of the following items required: sum certain; statement of fact; signature; location of incident; and date.* atau kita sebut saja *Insufficient* artinya bahwa syarat dari klaim tidak terpenuhi maka kita bisa asumsikan *final settlement* atau `Disposition` dari status ini adalah *Deny*. Selain itu kita juga bisa mengisi *missing value* pada kolom `Claim Amount` dan `Close Amount` dengan nilai 0."
   ]
  },
  {
   "cell_type": "code",
   "execution_count": null,
   "metadata": {},
   "outputs": [],
   "source": [
    "#kita ubah nama nya dulu karena terlalu panjang\n",
    "df.loc[df['Status']==\"Insufficient; one of the following items required: sum certain; statement of fact; signature; location of incident; and date.\", \"Status\"] = \"Insufficient\""
   ]
  },
  {
   "cell_type": "code",
   "execution_count": null,
   "metadata": {},
   "outputs": [],
   "source": [
    "df[df['Status']==\"Insufficient\"][\"Disposition\"].value_counts(dropna=False)"
   ]
  },
  {
   "attachments": {},
   "cell_type": "markdown",
   "metadata": {},
   "source": [
    "Sebelum kita isi nilai *missing value* kita lihat bahwa ada 5 baris dimana statusnya *Insufficient* tapi nilai `Disposition` nya *Approve in Full*. Ada 2 kemungkinan untuk kondisi ini. Pertama bisa saja final settlement atau penyelesaian/keputusan akhir dari klaim ini sebenar nya sudah *closed* tapi status nya belum diubah karena kolom `Status` disini bersifat keputusan sementara. Kedua memang ada kesalahan input data pada kolom `Disposition`. Disini saya akan ambil kemungkinan pertama, karena biasanya kolom `Disposition` atau keputusan akhir lah yang lebih diutamakan untuk digunakan jika ada kondisi seperti ini."
   ]
  },
  {
   "cell_type": "code",
   "execution_count": null,
   "metadata": {},
   "outputs": [],
   "source": [
    "df.loc[(df['Status']==\"Insufficient\") & (df['Disposition']==\"Approve in Full\"), \"Status\"] = \"Approve in Full\""
   ]
  },
  {
   "attachments": {},
   "cell_type": "markdown",
   "metadata": {},
   "source": [
    "selanjutnya baru kita isi **missing value* pada kolom `Disposition` dari status ini dengan *Deny* dan mengisi *missing value* pada kolom `Claim Amount` dan `Close Amount` dengan nilai 0."
   ]
  },
  {
   "cell_type": "code",
   "execution_count": null,
   "metadata": {},
   "outputs": [],
   "source": [
    "df.loc[df['Status']==\"Insufficient\", \"Disposition\"] = df.loc[df['Status']==\"Insufficient\", \"Disposition\"].fillna(\"Deny\")\n",
    "df.loc[(df['Status']==\"Insufficient\") & (df['Claim Amount'].isnull()), \"Claim Amount\"] = df.loc[(df['Status']==\"Insufficient\") & (df['Claim Amount'].isnull()), \"Claim Amount\"].fillna(0)\n",
    "df.loc[(df['Status']==\"Insufficient\") & (df['Close Amount'].isnull()), \"Close Amount\"] = df.loc[(df['Status']==\"Insufficient\") & (df['Close Amount'].isnull()), \"Close Amount\"].fillna(0)"
   ]
  },
  {
   "attachments": {},
   "cell_type": "markdown",
   "metadata": {},
   "source": [
    "* kasus ketujuh/terakhir : status *In litigation*, *Claim entered*, *In review* dan *Claim has been assigned for further investigation* bisa kita drop baris yanng mengandung nilai status ini. Alasan pertama : jumlah data nya sangat sedikit. Alasan kedua : keempat status tersebut bisa dibilang sedang dalam masa ketidakpastian, jadi bisa kita drop saja dari dataset karena bisa kita anggap juga sebagai \"outliers\" yang mengganggu analisis\n"
   ]
  },
  {
   "cell_type": "code",
   "execution_count": null,
   "metadata": {},
   "outputs": [],
   "source": [
    "df[df['Disposition'].isnull()]['Status'].value_counts()"
   ]
  },
  {
   "cell_type": "code",
   "execution_count": null,
   "metadata": {},
   "outputs": [],
   "source": [
    "idx_to_drop_in_status = [idx for idx in df.index if df['Status'][idx] in [\"In litigation\", \"Claim entered\", \"In review\" , \"Claim has been assigned for further investigation\"]]\n",
    "df = df.drop(idx_to_drop_in_status, axis=0)"
   ]
  },
  {
   "attachments": {},
   "cell_type": "markdown",
   "metadata": {},
   "source": [
    "Mari kita cek berapa *missing value* yang tersisa"
   ]
  },
  {
   "cell_type": "code",
   "execution_count": null,
   "metadata": {},
   "outputs": [],
   "source": [
    "#persentase missing value setiap kolom\n",
    "missing_pct_df = pd.DataFrame({\"column name\" : df.columns.tolist(), \"percentage (missing value)\" : [df[col].isnull().sum()*100/len(df) for col in df.columns]}).sort_values(by=\"percentage (missing value)\", ascending=False)\n",
    "missing_pct_df"
   ]
  },
  {
   "attachments": {},
   "cell_type": "markdown",
   "metadata": {},
   "source": [
    "##### Kedua, kita akan coba lihat nilai kosong pada kolom `Claim Amount` jika dikaitkan dengan kolom `Claim Type`"
   ]
  },
  {
   "cell_type": "code",
   "execution_count": null,
   "metadata": {},
   "outputs": [],
   "source": [
    "df_copy = df.copy()"
   ]
  },
  {
   "cell_type": "code",
   "execution_count": null,
   "metadata": {},
   "outputs": [],
   "source": [
    "#Buat kolom baru, apakah null atau tidak pada kolom `Claim Amount\n",
    "df_copy.loc[df_copy['Claim Amount'].isnull(), 'is_ClaimAmount_null'] = \"null\"\n",
    "df_copy.loc[df_copy['Claim Amount'].notnull(), 'is_ClaimAmount_null'] = \"not null\""
   ]
  },
  {
   "attachments": {},
   "cell_type": "markdown",
   "metadata": {},
   "source": [
    "cross tabulasi antara kolom baru `is_claim_amount_null` dengan `Claim Amount` dan `is_close_amount_nul`' dengan `Close Amount`"
   ]
  },
  {
   "cell_type": "code",
   "execution_count": null,
   "metadata": {},
   "outputs": [],
   "source": [
    "pd.crosstab(df['Claim Type'], df_copy['is_ClaimAmount_null'], normalize='index')"
   ]
  },
  {
   "attachments": {},
   "cell_type": "markdown",
   "metadata": {},
   "source": [
    "untuk kolom `Claim Amount`, nilai kosong banyak berada pada tipe klaim nya berupa non-material seperti *Complaint*, *Compliment*, *Wrongful Death* dan *Passenger Theft* karena sulit rasanya untuk mengukur besaran klaim yang diajukan. Kita akan sesuaikan dengan kolom `Claim Type` , karena biasanya besaran dana klaim yang diajukan sesuai dengan jenis klaim/kategori item nya"
   ]
  },
  {
   "attachments": {},
   "cell_type": "markdown",
   "metadata": {},
   "source": [
    "1) pada tipe klaim *Complaint* kita akan hapus baris yang berisi *missing value* pada kolom `Claim Amount` karena proporsinya cukup tinggi yaitu >70% dari data total tipe klaim *Complaint*, tidak ada cara yang tepat untuk mengisi nilai kosong ini. Total ada 34 baris yang kita drop di kasus ini"
   ]
  },
  {
   "cell_type": "code",
   "execution_count": null,
   "metadata": {},
   "outputs": [],
   "source": [
    "len(df.loc[(df['Claim Type']==\"Complaint\") & (df['Claim Amount'].isnull())])"
   ]
  },
  {
   "cell_type": "code",
   "execution_count": null,
   "metadata": {},
   "outputs": [],
   "source": [
    "df = df.drop(df[df['Claim Type']==\"Complaint\"].loc[df['Claim Amount'].isnull()].index, axis=0)"
   ]
  },
  {
   "attachments": {},
   "cell_type": "markdown",
   "metadata": {},
   "source": [
    "2. kita juga akan menghapus baris yang memiliki tipe klaim \"Compliment\" karena kurang relevan untuk analisis. Kita hanya akan memproses klaim yang bersifat merugikan passenger"
   ]
  },
  {
   "cell_type": "code",
   "execution_count": null,
   "metadata": {},
   "outputs": [],
   "source": [
    "df[df['Claim Type']==\"Compliment\"]"
   ]
  },
  {
   "cell_type": "code",
   "execution_count": null,
   "metadata": {},
   "outputs": [],
   "source": [
    "df = df.drop(df[df['Claim Type']==\"Compliment\"].index, axis=0)"
   ]
  },
  {
   "attachments": {},
   "cell_type": "markdown",
   "metadata": {},
   "source": [
    "3. tipe klaim \"Employee Loss (MPCECA)\" "
   ]
  },
  {
   "cell_type": "code",
   "execution_count": null,
   "metadata": {},
   "outputs": [],
   "source": [
    "px.histogram(df[df['Claim Type']==\"Employee Loss (MPCECA)\"]['Claim Amount'], width=1000)"
   ]
  },
  {
   "attachments": {},
   "cell_type": "markdown",
   "metadata": {},
   "source": [
    "distribusi `Claim Amount` terlihat condong ke kanan atau tidak normal pada tipe klaim \"Employee Loss (MPCECA)\" , jadi kita akan isi nilai kosong dengan nilai median"
   ]
  },
  {
   "cell_type": "code",
   "execution_count": null,
   "metadata": {},
   "outputs": [],
   "source": [
    "median1 = df[df['Claim Type']==\"Employee Loss (MPCECA)\"]['Claim Amount'].median()\n",
    "median1"
   ]
  },
  {
   "cell_type": "code",
   "execution_count": null,
   "metadata": {},
   "outputs": [],
   "source": [
    "df.loc[df['Claim Type']==\"Employee Loss (MPCECA)\", \"Claim Amount\"] = df.loc[df['Claim Type']==\"Employee Loss (MPCECA)\", \"Claim Amount\"].fillna(median1)"
   ]
  },
  {
   "attachments": {},
   "cell_type": "markdown",
   "metadata": {},
   "source": [
    "4. tipe klaim *Motor Vehicle*"
   ]
  },
  {
   "cell_type": "code",
   "execution_count": null,
   "metadata": {},
   "outputs": [],
   "source": [
    "df[df['Claim Type']==\"Motor Vehicle\"]['Claim Amount']"
   ]
  },
  {
   "cell_type": "code",
   "execution_count": null,
   "metadata": {},
   "outputs": [],
   "source": [
    "px.histogram(df[df['Claim Type']==\"Motor Vehicle\"]['Claim Amount'], width=1000)"
   ]
  },
  {
   "attachments": {},
   "cell_type": "markdown",
   "metadata": {},
   "source": [
    "distribusi `Claim Amount` juga terlihat condong ke kanan atau tidak normal pada tipe klaim \"Motor Vehicle\" , jadi kita akan isi nilai kosong dengan nilai median"
   ]
  },
  {
   "cell_type": "code",
   "execution_count": null,
   "metadata": {},
   "outputs": [],
   "source": [
    "median2 = df[df['Claim Type']==\"Motor Vehicle\"]['Claim Amount'].median()\n",
    "median2"
   ]
  },
  {
   "cell_type": "code",
   "execution_count": null,
   "metadata": {},
   "outputs": [],
   "source": [
    "df.loc[df['Claim Type']==\"Motor Vehicle\", \"Claim Amount\"] = df.loc[df['Claim Type']==\"Motor Vehicle\", \"Claim Amount\"].fillna(median2)"
   ]
  },
  {
   "attachments": {},
   "cell_type": "markdown",
   "metadata": {},
   "source": [
    "5. tipe klaim *Personal Injury*"
   ]
  },
  {
   "cell_type": "code",
   "execution_count": null,
   "metadata": {},
   "outputs": [],
   "source": [
    "px.box(df[df['Claim Type']==\"Personal Injury\"]['Claim Amount'], width=1000)"
   ]
  },
  {
   "attachments": {},
   "cell_type": "markdown",
   "metadata": {},
   "source": [
    "Bisa terlihat masih ada 57 baris yang nilai Claim Amount nya cukup tinggi hingga mencapai > 1 juta dollar yang bisa kita anggap sebagai outlier. "
   ]
  },
  {
   "cell_type": "code",
   "execution_count": null,
   "metadata": {},
   "outputs": [],
   "source": [
    "len(df[(df['Claim Type']==\"Personal Injury\") & (df['Claim Amount'] >= 1000000)])"
   ]
  },
  {
   "cell_type": "code",
   "execution_count": null,
   "metadata": {},
   "outputs": [],
   "source": [
    "df[df['Claim Type']==\"Personal Injury\"].isnull().sum()"
   ]
  },
  {
   "cell_type": "code",
   "execution_count": null,
   "metadata": {},
   "outputs": [],
   "source": [
    "print(df[df['Claim Type']==\"Personal Injury\"]['Claim Amount'].max(), df[df['Claim Type']==\"Personal Injury\"]['Claim Amount'].min())"
   ]
  },
  {
   "attachments": {},
   "cell_type": "markdown",
   "metadata": {},
   "source": [
    "Sebaran `Claim Amount` pada tipe klaim *Personal Injury* terlihat sangat bervariasi, ada nilai minimumnya $0 dan nilai maksimum nya $3 Billion. Akan sulit mengisi *missing value* `Claim Amount` pada kondisi ini kita akan drop saja."
   ]
  },
  {
   "cell_type": "code",
   "execution_count": null,
   "metadata": {},
   "outputs": [],
   "source": [
    "idx_to_drop_personal_injury =  df.loc[(df['Claim Type']==\"Personal Injury\") & (df['Claim Amount'].isnull())].index\n",
    "df = df.drop(idx_to_drop_personal_injury, axis=0)"
   ]
  },
  {
   "attachments": {},
   "cell_type": "markdown",
   "metadata": {},
   "source": [
    "6. tipe klaim *Passenger Property Loss*"
   ]
  },
  {
   "cell_type": "code",
   "execution_count": null,
   "metadata": {},
   "outputs": [],
   "source": [
    "px.box(df[df['Claim Type']==\"Passenger Property Loss\"]['Claim Amount'], width=1000)"
   ]
  },
  {
   "cell_type": "code",
   "execution_count": null,
   "metadata": {},
   "outputs": [],
   "source": [
    "df_temp = df[df['Claim Type']==\"Passenger Property Loss\"]\n",
    "df_temp[df_temp['Claim Type']==\"Passenger Property Loss\"].isnull().sum()"
   ]
  },
  {
   "cell_type": "code",
   "execution_count": null,
   "metadata": {},
   "outputs": [],
   "source": [
    "df_temp[df_temp[['Claim Amount', 'Close Amount', 'Status', 'Disposition']].isnull().all(axis=1)]"
   ]
  },
  {
   "attachments": {},
   "cell_type": "markdown",
   "metadata": {},
   "source": [
    "Sebaran `Claim Amount` pada tipe klaim *Passenger Property Loss* terlihat sangat bervariasi, selain itu hampir semua nilai pada kolom `Claim Amount`, `Close Amount`, `Status`, `Disposition` bernilai NaN atau kosong, sehingga tidak ada cara yang tepat untuk mengisi *missing value* ini, mari kita drop saja"
   ]
  },
  {
   "cell_type": "code",
   "execution_count": null,
   "metadata": {},
   "outputs": [],
   "source": [
    "idx_to_drop_property_loss =  df.loc[(df['Claim Type']==\"Passenger Property Loss\") & (df['Claim Amount'].isnull())].index\n",
    "df = df.drop(idx_to_drop_property_loss, axis=0)"
   ]
  },
  {
   "attachments": {},
   "cell_type": "markdown",
   "metadata": {},
   "source": [
    "7. tipe klaim *Property Damage*"
   ]
  },
  {
   "cell_type": "code",
   "execution_count": null,
   "metadata": {},
   "outputs": [],
   "source": [
    "px.box(df[df['Claim Type']==\"Property Damage\"]['Claim Amount'], width=1000)"
   ]
  },
  {
   "cell_type": "code",
   "execution_count": null,
   "metadata": {},
   "outputs": [],
   "source": [
    "df[(df['Claim Type']==\"Property Damage\") & (df['Claim Amount'] >= 300000)]"
   ]
  },
  {
   "attachments": {},
   "cell_type": "markdown",
   "metadata": {},
   "source": [
    "Jika dilihat dari gambar di atas, maka ada 3 baris data dengan nilai `Claim Amount` sebagai outlier "
   ]
  },
  {
   "cell_type": "code",
   "execution_count": null,
   "metadata": {},
   "outputs": [],
   "source": [
    "df[df['Claim Type']==\"Property Damage\"].isnull().sum()"
   ]
  },
  {
   "cell_type": "code",
   "execution_count": null,
   "metadata": {},
   "outputs": [],
   "source": [
    "df_temp = df[df['Claim Type']==\"Property Damage\"]\n",
    "df_temp[df_temp[['Claim Amount', 'Close Amount', 'Status', 'Disposition']].isnull().all(axis=1)]"
   ]
  },
  {
   "attachments": {},
   "cell_type": "markdown",
   "metadata": {},
   "source": [
    "Kita akan drop 4206 baris ini, karena nilai pada kolom `Claim Amount`, `Close Amount`, `Status`, `Disposition` bernilai NaN atau kosong, sehingga tidak ada cara yang tepat untuk mengisi *missing value* ini"
   ]
  },
  {
   "cell_type": "code",
   "execution_count": null,
   "metadata": {},
   "outputs": [],
   "source": [
    "df = df.drop(df_temp[df_temp[['Claim Amount', 'Close Amount', 'Status', 'Disposition']].isnull().all(axis=1)].index, axis=0)"
   ]
  },
  {
   "attachments": {},
   "cell_type": "markdown",
   "metadata": {},
   "source": [
    "Sebelum lanjut, mari kita isi dulu nilai `Close Amount` yang kosong, jika nilai `Claim Amount` dan `Disposition` nya tidak kosong"
   ]
  },
  {
   "cell_type": "code",
   "execution_count": null,
   "metadata": {},
   "outputs": [],
   "source": [
    "df[(df['Close Amount'].isnull()) & ((df['Claim Amount'].notnull()) & (df['Disposition'].notnull()))]"
   ]
  },
  {
   "cell_type": "code",
   "execution_count": null,
   "metadata": {},
   "outputs": [],
   "source": [
    "df.loc[(df['Close Amount'].isnull()) & (df['Claim Amount'].notnull()), 'Close Amount'] = df.loc[(df['Close Amount'].isnull()) & (df['Claim Amount'].notnull()), 'Claim Amount']"
   ]
  },
  {
   "attachments": {},
   "cell_type": "markdown",
   "metadata": {},
   "source": [
    "Kita juga akan drop sisa baris (205 baris) yang memiliki *missing value* pada kolom `Claim Amount`, `Close Amount`, `Status`, `Disposition`"
   ]
  },
  {
   "cell_type": "code",
   "execution_count": null,
   "metadata": {},
   "outputs": [],
   "source": [
    "df[df[['Claim Amount', 'Close Amount', 'Status', 'Disposition']].isnull().all(axis=1)]"
   ]
  },
  {
   "cell_type": "code",
   "execution_count": null,
   "metadata": {},
   "outputs": [],
   "source": [
    "df = df.drop(df[df[['Claim Amount', 'Close Amount', 'Status', 'Disposition']].isnull().all(axis=1)].index, axis=0)"
   ]
  },
  {
   "attachments": {},
   "cell_type": "markdown",
   "metadata": {},
   "source": [
    "Mari kita cek kembali *Missing Value* yang tersisa"
   ]
  },
  {
   "cell_type": "code",
   "execution_count": null,
   "metadata": {},
   "outputs": [],
   "source": [
    "#persentase missing value setiap kolom\n",
    "missing_pct_df = pd.DataFrame({\"column name\" : df.columns.tolist(), \"percentage (missing value)\" : [df[col].isnull().sum()*100/len(df) for col in df.columns]}).sort_values(by=\"percentage (missing value)\", ascending=False)\n",
    "missing_pct_df"
   ]
  },
  {
   "attachments": {},
   "cell_type": "markdown",
   "metadata": {},
   "source": [
    "#### `Incident Date` dan `Date Received`"
   ]
  },
  {
   "attachments": {},
   "cell_type": "markdown",
   "metadata": {},
   "source": [
    "pada kolom `Incident Date` dan `Date Received` ada nilai *missing value* yang diwakilkan oleh teks \"nan\", kita akan convert dulu ke numpy.NaN"
   ]
  },
  {
   "cell_type": "code",
   "execution_count": null,
   "metadata": {},
   "outputs": [],
   "source": [
    "df.loc[df['Date Received']==\"nan\", \"Date Received\"] = np.nan"
   ]
  },
  {
   "cell_type": "code",
   "execution_count": null,
   "metadata": {},
   "outputs": [],
   "source": [
    "df.loc[df['Incident Date']==\"nan\", \"Incident Date\"] = np.nan"
   ]
  },
  {
   "cell_type": "code",
   "execution_count": null,
   "metadata": {},
   "outputs": [],
   "source": [
    "df[df['Incident Date'].isnull()]"
   ]
  },
  {
   "attachments": {},
   "cell_type": "markdown",
   "metadata": {},
   "source": [
    "Jika kita lihat beberapa baris memiliki *missing value* pada kolom `Incident Date` tapi nilai pada kolom `Date Received` nya tidak kosong. \\\n",
    "Maka bisa kita asumsikan bahwa waktu antara kejadian dan klaim terjadi di hari yang sama, kita akan isi *misiing value* ini dengan data tanggal kolom `Date Received`"
   ]
  },
  {
   "cell_type": "code",
   "execution_count": null,
   "metadata": {},
   "outputs": [],
   "source": [
    "df['Incident Date'] = df['Incident Date'].astype(str).replace('NaT', np.nan)\n",
    "df['Date Received'] = df['Date Received'].astype(str).replace('NaT', np.nan)"
   ]
  },
  {
   "cell_type": "code",
   "execution_count": null,
   "metadata": {},
   "outputs": [],
   "source": [
    "df['Date Received'] = pd.to_datetime(df['Date Received'])\n",
    "df['Incident Date'] = pd.to_datetime(df['Incident Date'])"
   ]
  },
  {
   "cell_type": "code",
   "execution_count": null,
   "metadata": {},
   "outputs": [],
   "source": [
    "for idx in df[df['Incident Date'].isnull()].index:\n",
    "    if df['Date Received'][idx] != np.nan:\n",
    "        df.loc[idx, 'Incident Date'] = df['Date Received'][idx] "
   ]
  },
  {
   "attachments": {},
   "cell_type": "markdown",
   "metadata": {},
   "source": [
    "Mari kita cek *missing value* pada kolom `Date Received`, jika ada kita akan isi dengan data tanggal kolom `Incident Date`"
   ]
  },
  {
   "cell_type": "code",
   "execution_count": null,
   "metadata": {},
   "outputs": [],
   "source": [
    "df[df['Date Received'].isnull()]"
   ]
  },
  {
   "cell_type": "code",
   "execution_count": null,
   "metadata": {},
   "outputs": [],
   "source": [
    "for idx in df[df['Date Received'].isnull()].index:\n",
    "    if df['Incident Date'][idx] != np.nan:\n",
    "        df.loc[idx, 'Date Received'] = df['Incident Date'][idx] "
   ]
  },
  {
   "attachments": {},
   "cell_type": "markdown",
   "metadata": {},
   "source": [
    "#### `Airline Name`, `Airport Code`, dan `Airport Name`"
   ]
  },
  {
   "attachments": {},
   "cell_type": "markdown",
   "metadata": {},
   "source": [
    "Mari kita cek dulu antara kolom `Airport Name` dan ` Airport Code`karena keduanya saling berkaitan (lebih tepatnya memang dua entitas yang sama)"
   ]
  },
  {
   "attachments": {},
   "cell_type": "markdown",
   "metadata": {},
   "source": [
    "Kita cek jika salah satunya kosong"
   ]
  },
  {
   "cell_type": "code",
   "execution_count": null,
   "metadata": {},
   "outputs": [],
   "source": [
    "df[(df['Airport Name'].isnull()) & (df['Airport Code'].notnull())]"
   ]
  },
  {
   "cell_type": "code",
   "execution_count": null,
   "metadata": {},
   "outputs": [],
   "source": [
    "df[(df['Airport Name'].notnull()) & (df['Airport Code'].isnull())]"
   ]
  },
  {
   "attachments": {},
   "cell_type": "markdown",
   "metadata": {},
   "source": [
    "Jadi sudah dipastikan pasangan nya lengkap, tidak ada yang salah satunya kosong"
   ]
  },
  {
   "cell_type": "code",
   "execution_count": null,
   "metadata": {},
   "outputs": [],
   "source": [
    "df[df[\"Airport Name\"].isnull()]"
   ]
  },
  {
   "attachments": {},
   "cell_type": "markdown",
   "metadata": {},
   "source": [
    "Kita akan buat nama/kategori baru pada kolom `Airport Name` dan ` Airport Code` jika keduanya kosong. Kita akan sebut dengan *Unknown* karena tidak ada cara yang tepat untuk mengisi kolom ini."
   ]
  },
  {
   "cell_type": "code",
   "execution_count": null,
   "metadata": {},
   "outputs": [],
   "source": [
    "df.loc[:, ['Airport Name', 'Airport Code']] = df.loc[:, ['Airport Name', 'Airport Code']].fillna(\"Unknown\")"
   ]
  },
  {
   "attachments": {},
   "cell_type": "markdown",
   "metadata": {},
   "source": [
    "Ada dua cara untuk mengisi nilai *missing value* pada kolom `Airline Name` :\n",
    "\n",
    "* Pertama : kita mengisi dengan nilai modus `Airline Name` berdasarkan `Airport Name`\n",
    "* Kedua : buat kategori/nama baru dengan sebutan *Unknown*\n",
    "\n",
    "kelemahan cara pertama, kita seolah-olah asala \"menebak\" maskapai mana yang di komplain oleh penumpang. Akibatnya terjadi penurunan rating terhadap maskapai tersebut yang padahal belum tentu kejadian terjadi di maskapai itu. Maka untuk menghindari kesalahpahaman, kita akan gunakan cara kedua"
   ]
  },
  {
   "cell_type": "code",
   "execution_count": null,
   "metadata": {},
   "outputs": [],
   "source": [
    "df.loc[:, 'Airline Name'] = df.loc[:, 'Airline Name'].fillna(\"Unknown\")"
   ]
  },
  {
   "attachments": {},
   "cell_type": "markdown",
   "metadata": {},
   "source": [
    "#### `Claim Type`, `Item`, dan `Claim Site`"
   ]
  },
  {
   "attachments": {},
   "cell_type": "markdown",
   "metadata": {},
   "source": [
    "Mari kita cek persentase *Missing Value* yang tersisa"
   ]
  },
  {
   "cell_type": "code",
   "execution_count": null,
   "metadata": {},
   "outputs": [],
   "source": [
    "#persentase missing value setiap kolom\n",
    "missing_pct_df = pd.DataFrame({\"column name\" : df.columns.tolist(), \"percentage (missing value)\" : [df[col].isnull().sum()*100/len(df) for col in df.columns]}).sort_values(by=\"percentage (missing value)\", ascending=False)\n",
    "missing_pct_df"
   ]
  },
  {
   "cell_type": "code",
   "execution_count": null,
   "metadata": {},
   "outputs": [],
   "source": [
    "df[df['Claim Type'].isnull()]"
   ]
  },
  {
   "attachments": {},
   "cell_type": "markdown",
   "metadata": {},
   "source": [
    "Kolom `Item` dan `Claim Type` saling berhubungan karena biasanya sebuah item  masuk ke dalam kategori `Claim Type` tertentu. mari kita lihat satu sampel"
   ]
  },
  {
   "cell_type": "code",
   "execution_count": null,
   "metadata": {},
   "outputs": [],
   "source": [
    "df[df['Item']==\"Eyeglasses - (including contact lenses)\"]['Claim Type'].value_counts()"
   ]
  },
  {
   "attachments": {},
   "cell_type": "markdown",
   "metadata": {},
   "source": [
    "Jadi pada item *Eyeglasses - (including contact lenses)* nilai modus dari tipe klaim nya yaitu *Passenger Property Loss*\n",
    "\n",
    "Strateginya kita akan gunakan nilai modus dari `Claim Type` berdasarkan kolom `Item` "
   ]
  },
  {
   "cell_type": "code",
   "execution_count": null,
   "metadata": {},
   "outputs": [],
   "source": [
    "item_mode_df = df.groupby(\"Item\")['Claim Type'].agg(lambda x: pd.Series.mode(x)[0] if (len(pd.Series.mode(x))>0) else pd.Series.mode(x)).reset_index(name=\"Mode\")\n",
    "item_mode_df"
   ]
  },
  {
   "cell_type": "code",
   "execution_count": null,
   "metadata": {},
   "outputs": [],
   "source": [
    "for idx in df[df['Claim Type'].isnull()].index :\n",
    "    if (df['Item'][idx] != np.nan) & (df['Item'][idx] in item_mode_df['Item'].values):\n",
    "        try :\n",
    "            df.loc[idx, 'Claim Type'] = item_mode_df[item_mode_df['Item']==df.loc[idx, \"Item\"]]['Mode'].iloc[0]\n",
    "        except:\n",
    "            continue"
   ]
  },
  {
   "attachments": {},
   "cell_type": "markdown",
   "metadata": {},
   "source": [
    "Selanjutnya dengan cara yang sama, kita akan mengisi *missing value* kolom `Item` dengan modus `Item` berdasarkan kolom `Claim Type`"
   ]
  },
  {
   "cell_type": "code",
   "execution_count": null,
   "metadata": {},
   "outputs": [],
   "source": [
    "df[df['Item'].isnull()]"
   ]
  },
  {
   "cell_type": "code",
   "execution_count": null,
   "metadata": {},
   "outputs": [],
   "source": [
    "claim_type_mode_df = df.groupby(\"Claim Type\")['Item'].agg(lambda x: pd.Series.mode(x)[0] if (len(pd.Series.mode(x))>0) else pd.Series.mode(x)).reset_index(name=\"Mode\")\n",
    "claim_type_mode_df"
   ]
  },
  {
   "cell_type": "code",
   "execution_count": null,
   "metadata": {},
   "outputs": [],
   "source": [
    "for idx in df[df['Item'].isnull()].index :\n",
    "    if (df['Claim Type'][idx] != np.nan) & (df['Claim Type'][idx] in item_mode_df['Item'].values):\n",
    "            df.loc[idx, 'Item'] = item_mode_df[item_mode_df['Claim Type']==df.loc[idx, \"Claim Type\"]]['Mode'].iloc[0]\n",
    "        "
   ]
  },
  {
   "attachments": {},
   "cell_type": "markdown",
   "metadata": {},
   "source": [
    "sisanya kita akan isi *missing value* pada kolom `Item` dan `Claim Type` dengan nilai *Other*"
   ]
  },
  {
   "cell_type": "code",
   "execution_count": null,
   "metadata": {},
   "outputs": [],
   "source": [
    "df.loc[df[(df['Item'].isnull())].index, 'Item'] = \"Other\"\n",
    "df.loc[df[(df['Claim Type'].isnull())].index, 'Claim Type'] = \"Other\""
   ]
  },
  {
   "attachments": {},
   "cell_type": "markdown",
   "metadata": {},
   "source": [
    "Untuk *missing value* pada kolom `Claim Site` kita isi dengan *Other*"
   ]
  },
  {
   "cell_type": "code",
   "execution_count": null,
   "metadata": {},
   "outputs": [],
   "source": [
    "df.loc[df['Claim Site'].isnull(), 'Claim Site'] = \"Other\""
   ]
  },
  {
   "attachments": {},
   "cell_type": "markdown",
   "metadata": {},
   "source": [
    "#### Lain-lain"
   ]
  },
  {
   "attachments": {},
   "cell_type": "markdown",
   "metadata": {},
   "source": [
    "kita cek kembali persentase **missing value**"
   ]
  },
  {
   "cell_type": "code",
   "execution_count": null,
   "metadata": {},
   "outputs": [],
   "source": [
    "#persentase missing value setiap kolom\n",
    "missing_pct_df = pd.DataFrame({\"column name\" : df.columns.tolist(), \"percentage (missing value)\" : [df[col].isnull().sum()*100/len(df) for col in df.columns]}).sort_values(by=\"percentage (missing value)\", ascending=False)\n",
    "missing_pct_df"
   ]
  },
  {
   "cell_type": "code",
   "execution_count": null,
   "metadata": {},
   "outputs": [],
   "source": [
    "df[df['Claim Amount'].isnull()].sample(10)"
   ]
  },
  {
   "cell_type": "code",
   "execution_count": null,
   "metadata": {},
   "outputs": [],
   "source": [
    "df[df['Claim Amount'].isnull()]['Disposition'].value_counts()"
   ]
  },
  {
   "attachments": {},
   "cell_type": "markdown",
   "metadata": {},
   "source": [
    "Jika kita lihat sepertinya ada beberapa nilai *missing value* pada kolom `Claim Amount` yang tertinggal untuk diisi. Kita akan gunakan definisi sebelumnya tentang `Disposition` dan `Close Amount` untuk mengisi nilai yang kosong ini"
   ]
  },
  {
   "attachments": {},
   "cell_type": "markdown",
   "metadata": {},
   "source": [
    "* Jika `Disposition` = *Approve in Full* maka *missing value* kolom `Claim Amount` = nilai `Close Amount`\n",
    "* Jika `Disposition` = *Settle* maka *missing value* kolom `Claim Amount` = 2*(nilai `Close Amount`')"
   ]
  },
  {
   "cell_type": "code",
   "execution_count": null,
   "metadata": {},
   "outputs": [],
   "source": [
    "df.loc[(df['Disposition']==\"Approve in Full\") & df['Claim Amount'].isnull(), 'Claim Amount'] = df.loc[(df['Disposition']==\"Approve in Full\") & df['Claim Amount'].isnull(), 'Close Amount']"
   ]
  },
  {
   "cell_type": "code",
   "execution_count": null,
   "metadata": {},
   "outputs": [],
   "source": [
    "df.loc[(df['Disposition']==\"Settle\") & df['Claim Amount'].isnull(), 'Claim Amount'] = 2*(df.loc[(df['Disposition']==\"Settle\") & df['Claim Amount'].isnull(), 'Close Amount'])"
   ]
  },
  {
   "cell_type": "code",
   "execution_count": null,
   "metadata": {},
   "outputs": [],
   "source": [
    "#persentase missing value setiap kolom\n",
    "missing_pct_df = pd.DataFrame({\"column name\" : df.columns.tolist(), \"percentage (missing value)\" : [df[col].isnull().sum()*100/len(df) for col in df.columns]}).sort_values(by=\"percentage (missing value)\", ascending=False)\n",
    "missing_pct_df"
   ]
  },
  {
   "attachments": {},
   "cell_type": "markdown",
   "metadata": {},
   "source": [
    "Sisa *Missing Value* akan di drop karena proporsinya kecil dan juga tidak ada strategi lain untuk mengisi ini, maka kita bisa drop semua baris ini"
   ]
  },
  {
   "cell_type": "code",
   "execution_count": null,
   "metadata": {},
   "outputs": [],
   "source": [
    "df = df.dropna(axis=0)"
   ]
  },
  {
   "attachments": {},
   "cell_type": "markdown",
   "metadata": {},
   "source": [
    "Untuk bahan analisis selanjutnya kolom `Status` akan kita drop, karena kolom tersebut sebenar nya sudah diwakilkan dengan kolom `Disposition` yang sudah kita definisikan di atas. Selain itu juga kita akan drop kolom `Claim Number` dan `Airport Code` (karena sudah diwakilkan oleh kolom `Airport Name`)"
   ]
  },
  {
   "cell_type": "code",
   "execution_count": null,
   "metadata": {},
   "outputs": [],
   "source": [
    "df = df.drop(['Status', 'Claim Number', 'Airport Code'], axis=1)"
   ]
  },
  {
   "cell_type": "code",
   "execution_count": null,
   "metadata": {},
   "outputs": [],
   "source": [
    "a = df.copy()"
   ]
  },
  {
   "cell_type": "code",
   "execution_count": null,
   "metadata": {},
   "outputs": [],
   "source": [
    "df['Date Received'] = pd.to_datetime(df['Date Received'])\n",
    "df['Incident Date'] = pd.to_datetime(df['Incident Date'])"
   ]
  },
  {
   "attachments": {},
   "cell_type": "markdown",
   "metadata": {},
   "source": [
    "### Catatan Tambahan"
   ]
  },
  {
   "cell_type": "code",
   "execution_count": null,
   "metadata": {},
   "outputs": [],
   "source": [
    "df['different_day'] = (pd.to_datetime(df['Date Received']) - pd.to_datetime(df['Incident Date'])).dt.days\n",
    "df[df['different_day'] <0]"
   ]
  },
  {
   "attachments": {},
   "cell_type": "markdown",
   "metadata": {},
   "source": [
    "Saat kita mencoba melihat perbedaan waktu antara `Date Received` dan `Incident Date`, ada 1595 baris data yang dimana waktu pelaporan klaim nya diterima sebelum kejadian terjadi. Secara logika jelas ini tidak mungkin. Ada beberapa kemungkinan hal ini bisa terjadi. Pertama : memang ada kesalahan input data karena biasanya beberapa orang salah menginput tanggal yang seharusnya tanggal kejadian malah dimasukkan ke kolom tanggal pelaporan atau salah ketik. Kedua : Bisa saja ini adalah \"laporan fiktif\" sehingga ada kemungkinan adanya laporan palsu. Kita anggap 1595 baris ini sebagai *outliers* atau anomali yang dimana kita akan exclude atau drop semua baris ini untuk analisis selanjutnya."
   ]
  },
  {
   "cell_type": "code",
   "execution_count": null,
   "metadata": {},
   "outputs": [],
   "source": [
    "df = df.drop(df[df['different_day']<0]['Disposition'].index, axis=0)"
   ]
  },
  {
   "attachments": {},
   "cell_type": "markdown",
   "metadata": {},
   "source": [
    "## Data yang sudah bersih"
   ]
  },
  {
   "cell_type": "code",
   "execution_count": null,
   "metadata": {},
   "outputs": [],
   "source": [
    "df_obj = df.select_dtypes(['object'])\n",
    "df[df_obj.columns] = df_obj.apply(lambda x: x.str.strip())"
   ]
  },
  {
   "cell_type": "code",
   "execution_count": null,
   "metadata": {},
   "outputs": [],
   "source": [
    "listItem = []\n",
    "for col in df.columns :\n",
    "    listItem.append([col, df[col].dtype, df[col].isna().sum(),\n",
    "                    df[col].nunique(), list(df[col].drop_duplicates().sample(3).values)])\n",
    "\n",
    "dfDesc_clean = pd.DataFrame(columns=['dataFeatures', 'dataType', 'null', 'unique', 'uniqueSample'],\n",
    "                     data=listItem)\n",
    "print(df.shape)\n",
    "dfDesc_clean"
   ]
  },
  {
   "attachments": {},
   "cell_type": "markdown",
   "metadata": {},
   "source": [
    "Sebelum dibersihkan, kita memiliki **204,267** baris data, sekarang kita memiliki **189,591** baris. \n",
    "\n",
    "Sebanyak **12,963** baris data (**6.35%** dari data awal) yang kosong dihapus, dan sisa data kosong diisi dengan data yang dirasa relevan. Selain itu ada 1595 baris data yang di drop karena data yang dimana waktu pelaporan klaim nya diterima sebelum kejadian terjadi, karena terlalu banyak ketidakpastian alasan kenapa bisa seperti itu kita drop saja. Sehingga total baris yang kita drop sebanyak 14,588 baris (**7.14%** dari data awal)"
   ]
  },
  {
   "attachments": {},
   "cell_type": "markdown",
   "metadata": {},
   "source": [
    "# Data Analysis"
   ]
  },
  {
   "attachments": {},
   "cell_type": "markdown",
   "metadata": {},
   "source": [
    "Setelah dilakukan tahap *data cleaning*, sekarang kita akan melakukan analisis untuk mencari tahu **bagaimana karakteristik keputusan/penyelesaian akhir yang diambil terhadap klaim yang diajukan?**\n",
    "\n",
    "Analisis dilakukan dengan membandingkan data klaim yang disetujui secara penuh (`Disposition` = *Approve in Full*), klaim yang terselesaikan dengan persetujuan kedua belah pihak (`Disposition` = *Settle*) dan klaim yang ditolak (`Disposition` = *Deny*) berdasarkan *feature* yang tersedia pada dataset yang kita miliki. (catatan : kolom `Disposition` sebagai *target*)\n",
    "\n",
    "Mari kita lihat sebaran dari kolom `Disposition`"
   ]
  },
  {
   "cell_type": "code",
   "execution_count": null,
   "metadata": {},
   "outputs": [],
   "source": [
    "df['Disposition'].value_counts().reset_index().rename({\"index\" : \"Disposition\", \"Disposition\" : \"count\"}, axis=1)"
   ]
  },
  {
   "cell_type": "code",
   "execution_count": null,
   "metadata": {},
   "outputs": [],
   "source": [
    "display(df['Disposition'].value_counts())\n",
    "px.bar(df['Disposition'].value_counts().reset_index().rename({\"index\" : \"Disposition\", \"Disposition\" : \"count\"}, axis=1), color='Disposition', color_discrete_sequence=['red', 'blue', 'green'] , width=600, opacity=0.7, text_auto=True\n",
    "        , title=\"Distribusi kumlah klaim berdasarkan Disposition\")"
   ]
  },
  {
   "cell_type": "code",
   "execution_count": null,
   "metadata": {},
   "outputs": [],
   "source": [
    "df.head()"
   ]
  },
  {
   "attachments": {},
   "cell_type": "markdown",
   "metadata": {},
   "source": [
    "## Berdasarkan waktu kejadian dan pelaporan klaim : `Date Received` dan `Incident Date`"
   ]
  },
  {
   "attachments": {},
   "cell_type": "markdown",
   "metadata": {},
   "source": [
    "Pertama, mari kita lihat bagaimana pengaruh perbedaan waktu pelaporan klaim (Date Received) dengan tanggal kejadian (Incident date) dengan jumlah klaim dan keputusan akhir(*final settlement*). kita akan menggunakan kolom `Date Received` dan `Incident Date` untuk menjawab beberapa pertanyaan.\n",
    "\n",
    "* Pada bulan apa jumlah klaim nya paling besar? Bagaimana komposisi status penyelesaian akhir (*final settlement*?) nya?\n",
    "* Berapa selisih hari waktu pelaporan dan waktu kejadian yang memiliki paling banyak klaim nya? Bagaimana komposisi status penyelesaian akhir (*final settlement*?) nya?\n",
    "* Apakah ada perbedaan yang signifikan antara selisih hari waktu pelaporan (`Date Received`) dan waktu kejadian (`Incident Date`) terhadap kelompok keputusan akhir (`Disposition`) klaim?"
   ]
  },
  {
   "cell_type": "code",
   "execution_count": null,
   "metadata": {},
   "outputs": [],
   "source": [
    "df_month = df.copy()\n",
    "df_month['Month_Date_Received'] = df_month['Date Received'].dt.month\n",
    "fig = px.bar(df_month[['Month_Date_Received', 'Disposition']].value_counts().reset_index(name=\"count\"),x='Month_Date_Received', y='count', title='Distribusi klaim berdasarkan bulan klaim diterima', width=1000, color='Disposition', color_discrete_sequence=['Red', 'Blue', 'Green'], opacity=0.7)\n",
    "fig.update_xaxes(title=\"Month\")\n",
    "fig.show()\n",
    "\n",
    "\n",
    "df_month['Month_Incident_Date'] = df_month['Incident Date'].dt.month\n",
    "fig = px.bar(df_month[['Month_Incident_Date', 'Disposition']].value_counts().reset_index(name=\"count\"),x='Month_Incident_Date', y='count', title='Distribusi klaim berdasrkan bulan Kejadian/Incident', width=1000, color='Disposition', color_discrete_sequence=['Red', 'Blue', 'Green'], opacity=0.7)\n",
    "fig.update_xaxes(title=\"Month\")\n",
    "fig.show()"
   ]
  },
  {
   "cell_type": "code",
   "execution_count": null,
   "metadata": {},
   "outputs": [],
   "source": [
    "df_ct1 = pd.crosstab(df_month['Month_Date_Received'], df['Disposition'])\n",
    "df_ct1['Total'] = df_ct1.sum(axis=1)\n",
    "display(df_ct1.sort_values(by='Total', ascending=False))\n",
    "\n",
    "\n",
    "df_ct2 = pd.crosstab(df_month['Month_Incident_Date'], df['Disposition'])\n",
    "df_ct2['Total'] = df_ct2.sum(axis=1)\n",
    "display(df_ct2.sort_values(by='Total', ascending=False))"
   ]
  },
  {
   "attachments": {},
   "cell_type": "markdown",
   "metadata": {},
   "source": [
    "Dari hasil cross tabulasi dan grafik di atas  kita dapat melihat bahwa laporan klaim paling banyak terjadi di bulan januari dan kejadian/peristiwa terjadi cukup banyak di bulan desember. \\\n",
    "Ini masuk akal mengingat penerbangan paling sibuk di akhir tahun karena adanya liburan tahun baru, sehingga laporan baru masuk di bulan januari.\\\n",
    "\n",
    "Selain itu dapat kita lihat bahwa jumlah klaim tersebar cukup merata pada setiap bulan nya. Secara kasar kita dapat melihat bahwa hampir tidak ada pengaruh bulan laporan klaim terhadap kolom `Disposition`."
   ]
  },
  {
   "attachments": {},
   "cell_type": "markdown",
   "metadata": {},
   "source": [
    "Sekarang kita perhatikan kolom `different_day` yang sudah kita definisikan di langkah cleaning. Dimana `different_day` adalah selisih antara tanggal masuk klaim dengan tanggal kejadian\n"
   ]
  },
  {
   "cell_type": "code",
   "execution_count": null,
   "metadata": {},
   "outputs": [],
   "source": [
    "df[df['different_day'] > 365]['Disposition'].value_counts()"
   ]
  },
  {
   "cell_type": "code",
   "execution_count": null,
   "metadata": {},
   "outputs": [],
   "source": [
    "px.histogram(df[df['different_day'] <= 365], x='different_day', color='Disposition', title='Distribusi different_day berdasarkan Disposition (Target) periode 1 tahun (365 hari)', color_discrete_sequence=['Blue', 'Green', 'Red'], opacity=0.7)"
   ]
  },
  {
   "cell_type": "code",
   "execution_count": null,
   "metadata": {},
   "outputs": [],
   "source": [
    "px.histogram(df[df['different_day'] > 365], x='different_day', color='Disposition', title='Distribusi different_day berdasarkan Disposition (Target) periode > 365 hari', color_discrete_sequence=['Blue', 'Green', 'Red'], opacity=0.7)"
   ]
  },
  {
   "cell_type": "code",
   "execution_count": null,
   "metadata": {},
   "outputs": [],
   "source": [
    "df[df['different_day'] > 365]['Disposition'].value_counts()"
   ]
  },
  {
   "cell_type": "code",
   "execution_count": null,
   "metadata": {},
   "outputs": [],
   "source": [
    "print(df.shape)\n",
    "df[(df['different_day'] == 11)]['Disposition'].value_counts()"
   ]
  },
  {
   "cell_type": "code",
   "execution_count": null,
   "metadata": {},
   "outputs": [],
   "source": [
    "df.shape"
   ]
  },
  {
   "attachments": {},
   "cell_type": "markdown",
   "metadata": {},
   "source": [
    "Dari grafik di atas dapat dilihat bahwa :\n",
    "\n",
    "* Ada 1061 baris data yang perbedaan tanggal masuk klaim dan pelaporan nya lebih dari 365 hari (> 1 tahun), dimana 1061 baris klaim nya ditolak (*Deny*) dan sisanya disetujui (*Approve in Full* : 373 baris dan *Settle* : 367 baris). Hal ini dikarenakan penumpang bisa mengajukan klaim ke TSA atas barang yang hilang/rusak sampai lebih dari 2 tahun. Bisa dibaca pada form pengisian klaim resmi TSA (https://www.tsa.gov/travel/passenger-support/claims#:~:text=Processing,a%20claim%20rests%20with%20TSA.)\n",
    "* Waktu pelaporan paling banyak terjadi setelah 10-11 hari semenjak waktu kejadian yaitu ada 5359 baris dari total 189591 baris dengan komposisi : *Deny* (2951 baris), *Approve in Full* (1351 baris), dan *Settle* (1057 baris). Kenapa 11 hari? setelah saya baca pada form pengisian (link ada di atas) memang sering terjadi delay pengiriman surat yang dikirim ke fasilitas Federal karena adanya proses *screening* up to 3 minggu, jadi wajar saja klaim baru masuk setidaknya antara di hari ke-7 sampai ke-14. Jadi masuk akal paling banyak klaim masuk di hari ke-11\n",
    "\n",
    "Sekarang, mari kita lihat, apakah perbedaan `different_day` antara ketiga kelompok final settlement (`Disposition`) signifikan atau tidak.\n"
   ]
  },
  {
   "cell_type": "code",
   "execution_count": null,
   "metadata": {},
   "outputs": [],
   "source": [
    "# cek distribusi kolom different_day\n",
    "from scipy.stats import normaltest\n",
    "stats, pval=normaltest(df['different_day'])\n",
    "if pval<=0.05:\n",
    "    print('tidak normal') #Ha\n",
    "else: \n",
    "    print('distribusi normal') #Ho "
   ]
  },
  {
   "cell_type": "code",
   "execution_count": null,
   "metadata": {},
   "outputs": [],
   "source": [
    "# uji statistik, apakah perbedaan `different_day` antara ketiga kelompok final settlement (`Disposition`) signifikan atau tidak.\n",
    "# karena distribusi data tidak normal, Kruskal-Wallis\n",
    "from scipy.stats import kruskal\n",
    "stats,pval=kruskal(*[df[df['Disposition']==i]['different_day'] for i in df['Disposition'].unique()])\n",
    "if pval <= 0.05:\n",
    "    print('Tolak Ho')\n",
    "else:\n",
    "    print('Gagal menolak Ho')"
   ]
  },
  {
   "attachments": {},
   "cell_type": "markdown",
   "metadata": {},
   "source": [
    "Dengan ini Kita memiliki bukti yang cukup untuk menyimpulkan bahwa `different_day` pada klaim menyebabkan perbedaan keputusan akhir (`Disposition`) yang signifikan secara statistik."
   ]
  },
  {
   "attachments": {},
   "cell_type": "markdown",
   "metadata": {},
   "source": [
    "## Berdasarkan dana pengajuan klaim dan dana kompensasi : `Claim Amount` dan `Close Amount`"
   ]
  },
  {
   "attachments": {},
   "cell_type": "markdown",
   "metadata": {},
   "source": [
    "Mari kita lihat distribusi `Claim Amount` berdasarkan kolom `Disposition`"
   ]
  },
  {
   "cell_type": "code",
   "execution_count": null,
   "metadata": {},
   "outputs": [],
   "source": [
    "px.histogram(df[df['Claim Amount']<100], 'Claim Amount' ,color='Disposition')"
   ]
  },
  {
   "attachments": {},
   "cell_type": "markdown",
   "metadata": {},
   "source": [
    "Jika kita lihat bahwa distribusi `Claim Amount` bisa dibilang *extremely positively skewed* atau sangat condong ke kanan, yang artinya nilai nya tersebar terpusat pada nilai `Claim Amount` di sebelah kiri. Untuk itu, strategi yang akan saya gunakan yaitu *binning* atau *discretization* untuk mengubah nilai kontinu menjadi data ordinal, sehingga data `Claim Amount` sebaran nya menjadi lebih seimbang. Disini saya akan  menggunakan pandas.qcut() atau *quantile-based discretization* membagi data dengan ukuran bucket yang sama berdasarkan peringkat atau beberapa kuantil sampel, disini saya akan bagi data menjadi 5 bin sehingga kita akan memiliki 5 kategori."
   ]
  },
  {
   "cell_type": "code",
   "execution_count": null,
   "metadata": {},
   "outputs": [],
   "source": [
    "pd.cut(df['Claim Amount'], bins=[0,10,100,500,10000,3000000000000]).value_counts()"
   ]
  },
  {
   "attachments": {},
   "cell_type": "markdown",
   "metadata": {},
   "source": [
    "bisa dilihat dari hasil value_counts() di atas, kita mempunyai 4 bin atau 4 kategori yaitu :\n",
    "\n",
    "* range `0 - $10` kita akan beri label **Very Small (0-$10)**\n",
    "* range `$10 - $100` kita akan beri label **Small($10-$100)**\n",
    "* range `$100 - $500`kita akan beri label **Medium($100-$500)**\n",
    "* range `$500 - $100k` kita akan beri label **Large ($500-$100k)**\n",
    "* range `$100k-$300B` kita akan beri label **Very Large ($100k-$300B)**"
   ]
  },
  {
   "cell_type": "code",
   "execution_count": null,
   "metadata": {},
   "outputs": [],
   "source": [
    "df['Claim_Amount_category'] = pd.qcut(df['Claim Amount'], 5, labels=[\"Very Small (0-$10)\", \"Small ($10-$100)\", \"Medium ($100-$500)\",\"Large ($500-$100k)\", \"Very Large ($100k-$300B)\"])\n",
    "df[['Claim Amount', 'Claim_Amount_category']]"
   ]
  },
  {
   "attachments": {},
   "cell_type": "markdown",
   "metadata": {},
   "source": [
    "Kita akan coba membuat cross tabulasi antara kolom `Claim_Amount_category` dan `Disposition`"
   ]
  },
  {
   "cell_type": "code",
   "execution_count": null,
   "metadata": {},
   "outputs": [],
   "source": [
    "df_ct3 = pd.crosstab(df['Claim_Amount_category'], df['Disposition'])\n",
    "df_ct3['Total'] = df_ct3.sum(axis=1)\n",
    "df_ct3"
   ]
  },
  {
   "cell_type": "code",
   "execution_count": null,
   "metadata": {},
   "outputs": [],
   "source": [
    "px.imshow(df_ct3.iloc[:,0:3], width=600, color_continuous_scale='blues', aspect='auto', height=600)"
   ]
  },
  {
   "cell_type": "code",
   "execution_count": null,
   "metadata": {},
   "outputs": [],
   "source": [
    "df[df['Claim Amount']> 10000000][['Claim Amount', 'Claim_Amount_category', 'Disposition']]"
   ]
  },
  {
   "attachments": {},
   "cell_type": "markdown",
   "metadata": {},
   "source": [
    "Dari hasil cross tabulasi dan grafik heat map di atas kita dapat melihat beberapa hal :\n",
    "\n",
    "* Klaim yang di setujui secara penuh (*Approve in Full*) paling banyak saat dana klaim (`Claim Amount`) yang diajukan memiliki angka uang cukup kecil ($10-$100). Tentu saja ini masuk akal, karena jika angka dana klaim nya kecil kemungkinan besar akan disetujui dan dana yang diberikan seratus persen.\n",
    "* Klaim yang ditolak paling banyak ada di kategori claim amount yang sangat kecil (very small), kemungkinan memang banyak ada nya laporan fiktif/palsu yang masuk karena angka klaim nya kecil sehingga ketidakpastian tentang keaslian klaim tinggi. Klaim yang ditolak kedua paling banyak yaitu berada di kategori Very Large ($100k-$300B), hal ini masuk akal karena angkanya yang dibilang cukup fantastis sehingga butuh ketelitian pihak TSA dalam memfilter klaim yang mana yg harus disetujui apalagi kalau sudah berbicara tentang budget untuk memberikan dana kompensasi. Kita ambil 11 sampel dimana besar `Claim Amount` lebih besar dari 10 juta dollar ($10,000,000) yang bisa dilihat dari tabel di atas, dimana 9 dari 11 sampel ajuan klaim nya ditolak. \n",
    "* Tiga `Claim_Amount_category` teratas dari klaim dengan status final settlement (Disposition) Settle : yaitu Medium ($100-$500), Large ($500-$100k) dan Very Large ($100k-$300B). Artinya negosiasi antara pihak TSA dan penggugat/pengaju klaim biasanya terjadi pada kasus dengan nilai klaim di sekitar angka ini karena angkanya yang cukup besar dengan harapan kesepakatan terjadi."
   ]
  },
  {
   "cell_type": "code",
   "execution_count": null,
   "metadata": {},
   "outputs": [],
   "source": [
    "df_ct3.drop('Total', axis=1, inplace=True)\n",
    "df_ct3.columns = [\"Approve in Full\",\"Deny\",\"Settle\"]\n",
    "df_ct3.index = [\"Very Small (0-$10)\", \"Small($10-$100)\", \"Medium ($100-$500)\",\"Large ($500-$100k)\", \"Very Large ($100k-$300B)\"]\n",
    "\n",
    "observed = df_ct3.iloc[0:5,0:3] \n",
    "observed"
   ]
  },
  {
   "attachments": {},
   "cell_type": "markdown",
   "metadata": {},
   "source": [
    "Selanjutnya kita akan melakukan uji statistik apakah proporsi dari setiap kelompok keputusan akhir (final settlement) yaitu `Disposition` memiliki hubungan yang signifikan dengan kelompok dana klaim yang diajukan (`Claim_Amount_category`)"
   ]
  },
  {
   "cell_type": "code",
   "execution_count": null,
   "metadata": {},
   "outputs": [],
   "source": [
    "# uji statistik, apakah proporsi dari setiap kategori kolom `Disposition` memiliki hubungan yang signifikan dengan kategori kolom `Claim_Amount_category`\n",
    "# karena distribusi data tidak normal, Chi-Squared test\n",
    "from scipy.stats import chi2_contingency\n",
    "stats,pvalue,*_=chi2_contingency(observed)\n",
    "if pvalue <= 0.05:\n",
    "    print('Tolak Ho')\n",
    "else:\n",
    "    print('Gagal menolak Ho')"
   ]
  },
  {
   "attachments": {},
   "cell_type": "markdown",
   "metadata": {},
   "source": [
    "Ternyata memang ada hubungan yang kuat/signifikan antara proporsi setiap kelompok pada kolm `Disposition` dengan kelompok dana yang diajukan (`Claim_Amount_category`)"
   ]
  },
  {
   "attachments": {},
   "cell_type": "markdown",
   "metadata": {},
   "source": [
    "Untuk kolom `Close Amount` secara *Domain Knowledge* memiliki hubungan yang kuat dengan `Claim Amount`, `Claim_Amount_category` dan `Disposition`. Karena besaran dana yang akan diberikan ke pneggugat/pengaju tergantung dari keputusan akhir atau final settlement/Disposition pihak TSA. Jadi jika keputusan nya sudah ada dan Claim amount nya sudah tertulis tinggal kita mengikuti aturan yang ada jika *Approve in Full* maka dana diberikan 100%, jika *Settle* maka dana yang diberikan dengan proporsi tertentu sesuai dengan kesepakatan dan jika *Deny* sudah pasti dana yang dikembalikan 0 dollar."
   ]
  },
  {
   "attachments": {},
   "cell_type": "markdown",
   "metadata": {},
   "source": [
    "## Berdasarkan jenis benda/item yang di klaim : `Claim Type`"
   ]
  },
  {
   "attachments": {},
   "cell_type": "markdown",
   "metadata": {},
   "source": [
    "Mari kita lihat dulu distibusi `Dispostion` berdasarkan tipe klaim nya `Claim Type`"
   ]
  },
  {
   "cell_type": "code",
   "execution_count": null,
   "metadata": {},
   "outputs": [],
   "source": [
    "fig = px.histogram(df, x='Claim Type', facet_row='Disposition', facet_col_wrap=3)\n",
    "fig.for_each_annotation(lambda a: a.update(text=a.text.split(\"=\")[-1]))\n",
    "fig.show()"
   ]
  },
  {
   "attachments": {},
   "cell_type": "markdown",
   "metadata": {},
   "source": [
    "Jika kita lihat distribusi tipe klaim tidak seimbang (Imbalanced) antara *Passenger Property Loss*, *Property Damage* dan yang lainnya. Disini kita akan buat kategori yang lainnya ini (*Motor Vehicle*, *Personal Injury*, *Passenger Theft*, *Employee Loss (MPCECA*), *Other*, *Complaint*, *Bus Terminal* dan *Wrongful Death*) sebagai kategori baru yaitu *Non-Property* "
   ]
  },
  {
   "cell_type": "code",
   "execution_count": null,
   "metadata": {},
   "outputs": [],
   "source": [
    "df.loc[~df['Claim Type'].isin(['Passenger Property Loss', 'Property Damage']), 'Claim Type'] = \"Non-Property\""
   ]
  },
  {
   "cell_type": "code",
   "execution_count": null,
   "metadata": {},
   "outputs": [],
   "source": [
    "fig = px.histogram(df, x='Claim Type', color='Disposition', color_discrete_sequence=['blue', 'green', 'red'], opacity=0.7, title=\"Distribusi klaim berdasarkan Claim Type\")\n",
    "fig.show()"
   ]
  },
  {
   "cell_type": "code",
   "execution_count": null,
   "metadata": {},
   "outputs": [],
   "source": [
    "df_ct4 = pd.crosstab(df['Claim Type'], df['Disposition'])\n",
    "df_ct4['Total'] = df_ct4.sum(axis=1)\n",
    "df_ct4"
   ]
  },
  {
   "cell_type": "code",
   "execution_count": null,
   "metadata": {},
   "outputs": [],
   "source": [
    "px.imshow(df_ct4.iloc[:,0:3], width=600, color_continuous_scale='blues', aspect='auto', height=600)"
   ]
  },
  {
   "attachments": {},
   "cell_type": "markdown",
   "metadata": {},
   "source": [
    "Dari hasil cross tabulasi di atas dan grafik dapat kita lihat beberapa hal berikut :\n",
    "\n",
    "* Mayoritas klaim berasal dari klaim yang bertipe properti/benda milik penumpang hilang (*Passenger Property Loss*)\n",
    "* Dari tipe klaim Non-Property ternyata hanya `1338/2633` atau `50.8%` yang ditolak (menarik untuk ditelaah lebih dalam di lain kesempatan)\n",
    "* Tipe klaim yang proporsi di setujui secara penuh (*Approve in Full*) paling banyak pada tipe klaim (*Property Damage*) yaitu `21674/7193` atau `30.18%`\n",
    "* Tipe klaim yang proporsi di setujui secara partial/sebagian (*Settle*) paling banyak pada tipe klaim (*Non-Property*) yaitu `699/2633` atau `26.54%`\n",
    "* Tipe klaim yang proporsi di tolak (*Deny*) paling banyak pada tipe klaim (*Non-Property*) yaitu `1338/2633`  atau `50.8%`"
   ]
  },
  {
   "attachments": {},
   "cell_type": "markdown",
   "metadata": {},
   "source": [
    "Selanjutnya kita akan melakukan uji statistik apakah proporsi dari setiap kelompok keputusan akhir (final settlement) yaitu `Disposition` memiliki hubungan yang signifikan dengan kelompok tipe klaim (`Claim Type`)"
   ]
  },
  {
   "cell_type": "code",
   "execution_count": null,
   "metadata": {},
   "outputs": [],
   "source": [
    "df_ct4.drop('Total', axis=1, inplace=True)\n",
    "df_ct4.columns = [\"Approve in Full\",\"Deny\",\"Settle\"]\n",
    "df_ct4.index = [\"Non-Property\", \"Passenger Property Loss\", \"Property Damage\"]\n",
    "\n",
    "observed = df_ct4.iloc[0:3,0:3] \n",
    "observed"
   ]
  },
  {
   "cell_type": "code",
   "execution_count": null,
   "metadata": {},
   "outputs": [],
   "source": [
    "# uji statistik, apakah proporsi dari setiap kategori kolom `Disposition` memiliki hubungan yang signifikan dengan kategori kolom Claim Type`\n",
    "# karena kita akan membandingkan dua variabel kategori kita akan gunakan Chi-Squared test\n",
    "from scipy.stats import chi2_contingency\n",
    "stats,pvalue,*_=chi2_contingency(observed)\n",
    "if pvalue <= 0.05:\n",
    "    print('Tolak Ho')\n",
    "else:\n",
    "    print('Gagal menolak Ho')"
   ]
  },
  {
   "attachments": {},
   "cell_type": "markdown",
   "metadata": {},
   "source": [
    "Ternyata memang ada hubungan yang kuat/signifikan antara proporsi setiap kelompok pada kolm `Disposition` dengan kelompok tipe klaim (`Claim Type`)"
   ]
  },
  {
   "attachments": {},
   "cell_type": "markdown",
   "metadata": {},
   "source": [
    "Untuk kolom `Item` akan di tunda dulu penjabaran nya karena butuh dirapikan lebih jauh datanya. Mari kita drop saja kolom ini"
   ]
  },
  {
   "cell_type": "code",
   "execution_count": null,
   "metadata": {},
   "outputs": [],
   "source": [
    "df = df.drop('Item', axis=1)"
   ]
  },
  {
   "attachments": {},
   "cell_type": "markdown",
   "metadata": {},
   "source": [
    "## Berdasarkan tempat/lokasi klaim : `Airport Name`, `Airline Name`, dan `Claim Site` "
   ]
  },
  {
   "cell_type": "code",
   "execution_count": null,
   "metadata": {},
   "outputs": [],
   "source": [
    "# 10 bandara teratas dengan nilai klaim paling banyak\n",
    "top_10_airport = df.groupby(['Airport Name'])['Disposition'].count().sort_values(ascending=False).iloc[:10].index.tolist()\n",
    "top_10_airport"
   ]
  },
  {
   "cell_type": "code",
   "execution_count": null,
   "metadata": {},
   "outputs": [],
   "source": [
    "top_10_airport_df = df[df['Airport Name'].isin(top_10_airport)].groupby(['Airport Name', 'Disposition']).size().reset_index(name='count')\n",
    "for airport in top_10_airport:\n",
    "    total = top_10_airport_df[top_10_airport_df['Airport Name']==airport]['count'].sum()\n",
    "    top_10_airport_df.loc[top_10_airport_df['Airport Name']==airport, 'Total'] = total\n",
    "top_10_airport_df['percentage'] = round(top_10_airport_df['count']*100/top_10_airport_df['Total'],2)\n",
    "top_10_airport_df['percentage'] = top_10_airport_df['percentage'].astype(str) + \"%\" \n",
    "top_10_airport_df.sort_values(by='Total', ascending=False)"
   ]
  },
  {
   "cell_type": "code",
   "execution_count": null,
   "metadata": {},
   "outputs": [],
   "source": [
    "px.bar(top_10_airport_df, x='Airport Name', y='count', color='Disposition', opacity=0.7, text='percentage', title=\"10 bandara teratas dengan nilai klaim paling banyak\")"
   ]
  },
  {
   "attachments": {},
   "cell_type": "markdown",
   "metadata": {},
   "source": [
    "Dari hasil di atas bisa kita lihat beberapa hal berikut (disini kita akan mengabaikan nilai *Unknown*) :\n",
    "\n",
    "* Jumlah klaim terbanyak ada pada bandara *Unknown* karena lumayan banyak porsi data yang kosong pada kolom `Airport Name`. Secara teknikal artinya bandara dengan jumlah klaim terbanyak jatuh pada Los Angeles International Airport yang dimana adalah bandara utama di kota Los Angeles dan salah satu bandara tersibuk ke-3 di USA [Los_Angeles_International_Airport](https://en.wikipedia.org/wiki/Los_Angeles_International_Airport#:~:text=In%202019%2C%20LAX%20handled%2088%2C068%2C013,Hartsfield%E2%80%93Jackson%20Atlanta%20International%20Airport.) dengan 8909 klaim. Tapi walaupun begitu proporsi klaim yang disetujui ketiga terbesar di antara yang 10 bandara lainnya.\n",
    "* Bandara dengan **proporsi klaim yang ditolak terbesar** jatuh pada bandara McCarran International yaitu `66.41%`. Yang kedua adalah John F. Kennedy International yaitu `64.20%`, bandara ini juga memiliki jumlah klaim terbanyak kedua artinya bandara ini memiliki *Denied Claim Rate* (terhadap total klaim) yang tinggi di antara 10 bandara lainnya.\n",
    "* Bandara dengan proporsi **klaim yang disetujui terbesar** (*Approve in Full* + *Settle*) jatuh pada bandara Seattle-Tacoma International dengan 30.28 + 23.46 = `53.74%`\n",
    "* Bandara dengan proporsi **klaim yang disetujui secara penuh (*Approve in Full*) terbesar** jatuh pada bandara Seattle-Tacoma International dengan nilai `30.28%`\n",
    "* Bandara dengan proporsi **klaim yang disetujui secara sebagian (*Settle*) terbesar** jatuh pada bandara Newark International Airport dengan nilai `25.85`"
   ]
  },
  {
   "cell_type": "code",
   "execution_count": null,
   "metadata": {},
   "outputs": [],
   "source": [
    "# 10 airline teratas dengan nilai klaim paling banyak\n",
    "top_10_Airline = df.groupby(['Airline Name'])['Disposition'].count().sort_values(ascending=False).iloc[:10].index.tolist()\n",
    "top_10_Airline"
   ]
  },
  {
   "cell_type": "code",
   "execution_count": null,
   "metadata": {},
   "outputs": [],
   "source": [
    "top_10_Airline_df = df[df['Airline Name'].isin(top_10_Airline)].groupby(['Airline Name', 'Disposition']).size().reset_index(name='count')\n",
    "for Airline in top_10_Airline:\n",
    "    total = top_10_Airline_df[top_10_Airline_df['Airline Name']==Airline]['count'].sum()\n",
    "    top_10_Airline_df.loc[top_10_Airline_df['Airline Name']==Airline, 'Total'] = total\n",
    "top_10_Airline_df['percentage'] = round(top_10_Airline_df['count']*100/top_10_Airline_df['Total'],2)\n",
    "top_10_Airline_df['percentage'] = top_10_Airline_df['percentage'].astype(str) + \"%\" \n",
    "top_10_Airline_df.sort_values(by='Total', ascending=False)"
   ]
  },
  {
   "cell_type": "code",
   "execution_count": null,
   "metadata": {},
   "outputs": [],
   "source": [
    "px.bar(top_10_Airline_df, x='Airline Name', y='count', color='Disposition', opacity=0.7, text='percentage', title=\"10 maskapai teratas dengan nilai klaim paling banyak\")"
   ]
  },
  {
   "attachments": {},
   "cell_type": "markdown",
   "metadata": {},
   "source": [
    "Dari hasil di atas bisa kita lihat beberapa hal berikut (disini kita akan mengabaikan nilai *Unknown*) :\n",
    "\n",
    "* Airline dengan jumlah klaim terbanyak jatuh pada Delta Airlines dengan total `23440` klaim dari total `189591` klaim\n",
    "* Airline dengan **proporsi klaim yang ditolak terbanyak** jatuh pada Jet Blue yaitu `62.5%`. Yang kedua adalah Delta Airlines yaitu `57.58%`, Airline ini ini juga memiliki jumlah klaim yang paling banyak ke-1 artinya bandara ini memiliki *Denied Claim Rate* yang tinggi di antara yang lainnya. Begitu juga dengan American Airlines karena memiliki **proporsi klaim yang ditolak terbanyak ke-2** dan memiliki jumlah klaim terbanyak ke-2 dari total baris dengan 22038 klaim\n",
    "* Bandara dengan proporsi **klaim yang disetujui terbanyak** (*Approve in Full* + *Settle*) jatuh pada Airline Northwest Airlines dengan 25.08 + 23.64= `48.72%`\n",
    "* Bandara dengan proporsi **klaim yang disetujui secara penuh (*Approve in Full*)** jatuh pada Airline Southwest Airlines dengan nilai `26.66%`\n",
    "* Bandara dengan proporsi **klaim yang disetujui secara sebagian (*Settle*)** jatuh pada Northwest Airlines dengan nilai `23.64%`"
   ]
  },
  {
   "attachments": {},
   "cell_type": "markdown",
   "metadata": {},
   "source": [
    "Selanjutnya kita akan melihat distribusi `Disposition` berdasarkan `Claim Site`"
   ]
  },
  {
   "cell_type": "code",
   "execution_count": null,
   "metadata": {},
   "outputs": [],
   "source": [
    "fig = px.histogram(df, x='Claim Site', facet_row='Disposition', facet_col_wrap=3)\n",
    "fig.for_each_annotation(lambda a: a.update(text=a.text.split(\"=\")[-1]))\n",
    "fig.show()"
   ]
  },
  {
   "attachments": {},
   "cell_type": "markdown",
   "metadata": {},
   "source": [
    "Jika kita lihat distribusi `Claim Site` tidak seimbang (Imbalanced) antara *Checkpoint*, *Checked Baggage* dan yang lainnya. Disini kita akan buat kategori yang lainnya ini (*Other*, *Motor Vehicle*, dan *Bus Station*) sebagai kategori baru yaitu *Non-CheckingSite* "
   ]
  },
  {
   "cell_type": "code",
   "execution_count": null,
   "metadata": {},
   "outputs": [],
   "source": [
    "df.loc[~df['Claim Site'].isin(['Checkpoint', 'Checked Baggage']), 'Claim Site'] = \"Non-CheckingSite\""
   ]
  },
  {
   "cell_type": "code",
   "execution_count": null,
   "metadata": {},
   "outputs": [],
   "source": [
    "fig = px.histogram(df, x='Claim Site', color='Disposition')\n",
    "fig.show()"
   ]
  },
  {
   "cell_type": "code",
   "execution_count": null,
   "metadata": {},
   "outputs": [],
   "source": [
    "df_ct5 = pd.crosstab(df['Claim Site'], df['Disposition'])\n",
    "df_ct5['Total'] = df_ct5.sum(axis=1)\n",
    "df_ct5"
   ]
  },
  {
   "cell_type": "code",
   "execution_count": null,
   "metadata": {},
   "outputs": [],
   "source": [
    "px.imshow(df_ct5.iloc[:,0:3], width=600, color_continuous_scale='blues', aspect='auto', height=600)"
   ]
  },
  {
   "attachments": {},
   "cell_type": "markdown",
   "metadata": {},
   "source": [
    "Dari hasil cross tabulasi di atas dan grafik dapat kita lihat beberapa hal berikut :\n",
    "\n",
    "* Proporsi yang paling banyak (dari total klaim yaitu) berasal dari kategori *Checked Baggage* yaitu `149242 `baris dari total `189591` baris\n",
    "* Pada lokasi *Checked Baggage* ternyata hanya `84525/149242` atau `56.60%` yang ditolak artinya cukup banyak klaim yang diterima, padahal mayoritas laporan klaim berasal dari site ini. Site ini juga menjadi site dengan proporsi klaim ditolak paling banyak di antara site yang lain\n",
    "* Tipe klaim yang proporsi di setujui secara penuh (*Approve in Full*) paling banyak berasal dari lokasi(*Checkpoint*) yaitu `12738/36580` atau `34.82%`\n",
    "* Tipe klaim yang proporsi di setujui secara partial/sebagian (*Settle*) paling banyak berasal dari lokasi (*Non-CheckingSite*) yaitu `1410/3769` atau `37.41%`"
   ]
  },
  {
   "attachments": {},
   "cell_type": "markdown",
   "metadata": {},
   "source": [
    "Selanjutnya kita akan melakukan uji statistik apakah proporsi dari setiap kelompok keputusan akhir (final settlement) yaitu `Disposition` memiliki hubungan yang signifikan dengan kelompok site klaim (`Claim Site`)"
   ]
  },
  {
   "cell_type": "code",
   "execution_count": null,
   "metadata": {},
   "outputs": [],
   "source": [
    "df_ct5.drop('Total', axis=1, inplace=True)\n",
    "df_ct5.columns = [\"Approve in Full\",\"Deny\",\"Settle\"]\n",
    "df_ct5.index = [\"Checked Baggage\", \"Checkpoint\", \"Non-CheckingSite\t\"]\n",
    "\n",
    "observed = df_ct5.iloc[0:3,0:3] \n",
    "observed"
   ]
  },
  {
   "cell_type": "code",
   "execution_count": null,
   "metadata": {},
   "outputs": [],
   "source": [
    "# uji statistik, apakah proporsi dari setiap kategori kolom `Disposition` memiliki hubungan yang signifikan dengan kategori kolom Claim Site`\n",
    "# karena kita akan membandingkan dua variabel kategori kita akan gunakan Chi-Squared test\n",
    "from scipy.stats import chi2_contingency\n",
    "stats,pvalue,*_=chi2_contingency(observed)\n",
    "if pvalue <= 0.05:\n",
    "    print('Tolak Ho')\n",
    "else:\n",
    "    print('Gagal menolak Ho')"
   ]
  },
  {
   "attachments": {},
   "cell_type": "markdown",
   "metadata": {},
   "source": [
    "Ternyata memang ada hubungan yang kuat/signifikan antara proporsi setiap kelompok pada kolm `Disposition` dengan kelompok site klaim (`Claim Site`)"
   ]
  },
  {
   "cell_type": "code",
   "execution_count": null,
   "metadata": {},
   "outputs": [],
   "source": [
    "df['Airport Name'] = df['Airport Name'].str.strip()"
   ]
  },
  {
   "cell_type": "code",
   "execution_count": null,
   "metadata": {},
   "outputs": [],
   "source": [
    "df['claim_id'] = list(range(0,len(df)))\n",
    "df.to_csv('tsa_claims_clean.csv', index=False)"
   ]
  },
  {
   "attachments": {},
   "cell_type": "markdown",
   "metadata": {},
   "source": [
    "# Kesimpulan dan Rekomendasi \n",
    "\n",
    "Dari analisis yang telah dilakukan, kita bisa membuat kesimpulan berikut tentang keputusan akhir dari klaim yang diajukan ke TSA:\n",
    "* Dari 189,591 data yang kita miliki,102,392 data berasal dari klaim dengan keputusan akhir nya *Deny*, 46,960 baris dari keputusan akhir nya *Approve in Full* dan 40,293 baris dari keputusan akhir nya *Settle*\n",
    "* laporan klaim paling banyak terjadi di bulan januari dan kejadian/peristiwa terjadi cukup banyak di bulan desember.\n",
    "* Klaim masuk paling banyak terjadi setelah 10-11 hari semenjak waktu kejadian. \n",
    "* Berdasarkan dana klaim yang diajukan, klaim yang di setujui secara penuh (**Approve in Full**) paling banyak saat dana klaim (`Claim Amount`) yang diajukan memiliki angka uang cukup kecil ($10-$100). Klaim yang ditolak (**Deny**) paling banyak ada di kategori claim amount yang sangat kecil (0-$10) dan di kategori Very Large ($100k-$300B). Sedangkan klaim dengan status (`Disposition`) **Settle** paling banyak berasal dari kategori Medium ($100-$500), Large ($500-$100k) dan Very Large ($100k-$300B)\n",
    "* Dari semua klaim yang masuk, mayoritas karena penumpang kehilangan benda/properti (*Passenger Property Loss*) \n",
    "* Mayoritas klaim berasal dari bandara Los Angeles International Airport\n",
    "* Maskapai dengan jumlah klaim terbanyak jatuh pada Delta Airlines dengan tingkat penolakan klaim yang tinggi\n",
    "* Mayoritas laporan klaim berasal dari lokasi *Checked Baggage* yaitu `149242 `baris dari total `189591` baris\n",
    "\n",
    "Karakteristik klaim yang disetujui (*Approve in Full* dan *Settle*), terutama jika dibandingkan dengan klaim yang ditolak (*Deny*) :\n",
    "* Biasanya jika dana klaim yang diajukan (`Claim Amount`) berada pada rentang yang cukup kecil $10-$100\n",
    "* Mayoritas berasal dari jika tipe klaim nya berupa kehilangan barang (*property loss*)\\\n",
    "* Biasanya berasal dari bandara yang relatif kecil jika dibandingkan dengan bandara lainnya di USA. Misalnya Seattle-Tacoma International [Wikipedia](https://en.wikipedia.org/wiki/Seattle%E2%80%93Tacoma_International_Airport) yang memiliki *rate* klaim disetujui tertinggi di antara bandara yang lainya (dari hasil analisis). \n",
    "* Waktu pelaporan tidak terlalu jauh dari tanggal kejadian (rentang 7-14 hari)\n"
   ]
  },
  {
   "attachments": {},
   "cell_type": "markdown",
   "metadata": {},
   "source": [
    "**Rekomendasi**\n",
    "1. Tingkatkan keamanan pada di akhir desember, sehingga laporan barang rusak/hilang berkurang.\n",
    "    * Akan lebih baik membandingkan lagi dari bulan yang lainnya juga\n",
    "2. Antisipasi laporan klaim yang akan masuk setelah 10-11 hari senjak ada laporan kejadian barang rusak/hilang atau kejadian lainnya.\n",
    "3. Perlu dibuat sistem *screening* yang lebih baik dan jelas ketika dana klaim pada laporan yang masuk berada pada rentang nilai yang kecil 0-$10. Pada rentang nilai ini, kemungkinan laporan palsu sangat tinggi.\n",
    "4. Karena klaim yang masuk mayoritas disebabkan oleh kehilangan harta benda penumpang, fokus pada keamanan di lokasi penyimpanan barang seperti bagasi pesawat atau gudang sementara bandara.\n",
    "5. Perlu dilakukan evaluasi pada bandara John F. Kennedy International dan Delta Airlines mengenai keamanan dan kehandalan penanganan klaim.\n",
    "    * Akan lebih baik dilakukan analisis lebih mendalam mengenai ini, karena bisa saja bandara lain juga memiliki keamanan yang kurang baik. Terutama bandara dengan kesibukan tinggi.\n",
    "6. Tingkatkan keamanan pada lokasi *Checked Baggage*\n",
    "\n",
    "Diharapkan analisis ini bisa membantu untuk menekan biaya kompensasi dan waktu pengecekan klaim, mendeteksi adanya klaim fiktif atau palsu, memberikan evaluasi kepada bandara dalam hal penanganan klaim dan meningkatkan kualitas dengan membantu mengelompokkan klaim ke dalam keputusan akhir (*final settlement*) yang sesuai."
   ]
  },
  {
   "cell_type": "markdown",
   "metadata": {},
   "source": []
  }
 ],
 "metadata": {
  "kernelspec": {
   "display_name": "belajar",
   "language": "python",
   "name": "python3"
  },
  "language_info": {
   "codemirror_mode": {
    "name": "ipython",
    "version": 3
   },
   "file_extension": ".py",
   "mimetype": "text/x-python",
   "name": "python",
   "nbconvert_exporter": "python",
   "pygments_lexer": "ipython3",
   "version": "3.10.9"
  },
  "orig_nbformat": 4,
  "vscode": {
   "interpreter": {
    "hash": "e216859690fb7e6d719da3cf3eddf4f7ba8195700a2dc179cd9a2f18bef34d58"
   }
  }
 },
 "nbformat": 4,
 "nbformat_minor": 2
}
